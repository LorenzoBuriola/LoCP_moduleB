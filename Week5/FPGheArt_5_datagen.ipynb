{
 "cells": [
  {
   "cell_type": "code",
   "execution_count": 41,
   "id": "a39a5618",
   "metadata": {
    "tags": []
   },
   "outputs": [
    {
     "name": "stdout",
     "output_type": "stream",
     "text": [
      "0.4745706786885481\n",
      "0.6574725026572553\n",
      "0.6664104711248381\n",
      "0.14260035292536777\n"
     ]
    }
   ],
   "source": [
    "import csv\n",
    "# random seed for reproducibility\n",
    "import random\n",
    "random.seed(12)\n",
    "\n",
    "for i in range(4):\n",
    "    print(random.random())"
   ]
  },
  {
   "cell_type": "code",
   "execution_count": 82,
   "id": "c1eea0f8",
   "metadata": {},
   "outputs": [],
   "source": [
    "seqstr = ['11001100', '00111100', '11000011', '00110011','11111111']\n",
    "seq = [[int(i) for i in seqstr[j]] for j in range(len(seqstr))]\n",
    "q = 0.1\n",
    "N = 10000"
   ]
  },
  {
   "cell_type": "code",
   "execution_count": 75,
   "id": "d68c4f24",
   "metadata": {},
   "outputs": [],
   "source": [
    "def create_data(seq, N = 10000):\n",
    "    data = []\n",
    "    label = []\n",
    "    for i in range(N):\n",
    "        n = random.randint(0,len(seq)-1)\n",
    "        data.append(seq[n])\n",
    "        label.append(n)\n",
    "    return data, label\n",
    "\n",
    "def noise(data, q=0.1):\n",
    "    temp = [[0]*len(data[0])]*len(data)\n",
    "    print(temp)\n",
    "\n"
   ]
  },
  {
   "cell_type": "code",
   "execution_count": 76,
   "id": "b1cbb496",
   "metadata": {},
   "outputs": [
    {
     "name": "stdout",
     "output_type": "stream",
     "text": [
      "DATA/dataRBM_clean6_q0.1.csv\n"
     ]
    }
   ],
   "source": [
    "fname = 'DATA/dataRBM_clean' + str(len(seq)) + '_q'+str(q)+'.csv'\n",
    "print(fname)\n",
    "# any way to do it in one line?\n",
    "with open(fname, mode='w') as myfile:\n",
    "    writer = csv.writer(myfile, delimiter=',')\n",
    "    for i in range(N):\n",
    "        writer.writerow(x[i])"
   ]
  },
  {
   "cell_type": "code",
   "execution_count": 77,
   "id": "c0f012c9",
   "metadata": {},
   "outputs": [],
   "source": [
    "for n in range(len(x)):\n",
    "    for j in range(len(x[0])):\n",
    "        if random.random()<q:\n",
    "            x[n][j] = 1-x[n][j]"
   ]
  },
  {
   "cell_type": "code",
   "execution_count": 78,
   "id": "c940d55b",
   "metadata": {},
   "outputs": [
    {
     "name": "stdout",
     "output_type": "stream",
     "text": [
      "DATA/dataRBM_seq6_q0.1.csv\n"
     ]
    }
   ],
   "source": [
    "fname = 'DATA/dataRBM_seq' + str(len(seq)) + '_q'+str(q)+'.csv'\n",
    "print(fname)\n",
    "# any way to do it in one line?\n",
    "with open(fname, mode='w') as myfile:\n",
    "    writer = csv.writer(myfile, delimiter=',')\n",
    "    for i in range(N):\n",
    "        writer.writerow(x[i])"
   ]
  },
  {
   "cell_type": "code",
   "execution_count": 83,
   "id": "265f1471",
   "metadata": {},
   "outputs": [
    {
     "name": "stdout",
     "output_type": "stream",
     "text": [
      "[0, 0, 1, 1, 0, 0, 1, 0] [3]\n",
      "[1, 1, 1, 1, 1, 1, 1, 1] [4]\n",
      "[0, 0, 1, 1, 0, 1, 0, 0] [1]\n",
      "[1, 1, 1, 0, 0, 0, 1, 0] [2]\n",
      "[1, 1, 0, 0, 1, 1, 0, 0] [0]\n",
      "[1, 1, 0, 1, 1, 1, 0, 0] [0]\n",
      "[1, 1, 1, 0, 1, 1, 0, 0] [0]\n",
      "[1, 1, 0, 0, 1, 0, 0, 1] [0]\n",
      "[1, 1, 1, 1, 1, 1, 1, 1] [4]\n",
      "[1, 0, 0, 1, 0, 0, 1, 1] [3]\n",
      "[0, 0, 1, 1, 0, 1, 1, 1] [3]\n",
      "[1, 1, 0, 0, 0, 0, 1, 1] [2]\n",
      "[1, 0, 0, 0, 1, 1, 0, 0] [0]\n",
      "[1, 0, 1, 1, 0, 0, 1, 0] [3]\n",
      "[0, 0, 1, 1, 1, 1, 0, 0] [1]\n",
      "[1, 1, 1, 0, 0, 0, 1, 1] [2]\n",
      "[0, 1, 1, 1, 1, 1, 1, 0] [1]\n",
      "[0, 1, 0, 0, 1, 0, 1, 1] [2]\n",
      "[0, 0, 1, 1, 0, 0, 1, 1] [3]\n",
      "[1, 1, 0, 0, 1, 1, 0, 1] [2]\n"
     ]
    }
   ],
   "source": [
    "l = 8\n",
    "N = 10000\n",
    "x = [[0] * L for j in range(N)]\n",
    "x_clean = [[0] * L for j in range(N)]\n",
    "y_cl = [0 for j in range(N)]\n",
    "\n",
    "for n in range(N):\n",
    "    k, y = create_data(seq, N = 1)\n",
    "    y_cl[n] = y\n",
    "    for j in range(L):\n",
    "        x_clean[n][j] = k[0][j]\n",
    "        x[n][j] = k[0][j]\n",
    "    for j in range(L):\n",
    "        if random.random()<q:\n",
    "             x[n][j] = 1-x[n][j]\n",
    "                \n",
    "for n in range(min(20,N)):\n",
    "    print(x[n],y_cl[n])"
   ]
  },
  {
   "cell_type": "code",
   "execution_count": 84,
   "id": "10e7908e",
   "metadata": {},
   "outputs": [
    {
     "name": "stdout",
     "output_type": "stream",
     "text": [
      "DATA/dataRBM_clean5_q0.1.csv\n"
     ]
    }
   ],
   "source": [
    "fname = 'DATA/dataRBM_clean' + str(len(seq)) + '_q'+str(q)+'.csv'\n",
    "print(fname)\n",
    "# any way to do it in one line?\n",
    "with open(fname, mode='w') as myfile:\n",
    "    writer = csv.writer(myfile, delimiter=',')\n",
    "    for i in range(N):\n",
    "        writer.writerow(x_clean[i])"
   ]
  },
  {
   "cell_type": "code",
   "execution_count": 85,
   "id": "6a2ed582",
   "metadata": {},
   "outputs": [
    {
     "name": "stdout",
     "output_type": "stream",
     "text": [
      "DATA/dataRBM_seq5_q0.1.csv\n"
     ]
    }
   ],
   "source": [
    "fname = 'DATA/dataRBM_seq' + str(len(seq)) + '_q'+str(q)+'.csv'\n",
    "print(fname)\n",
    "# any way to do it in one line?\n",
    "with open(fname, mode='w') as myfile:\n",
    "    writer = csv.writer(myfile, delimiter=',')\n",
    "    for i in range(N):\n",
    "        writer.writerow(x[i])"
   ]
  },
  {
   "cell_type": "code",
   "execution_count": null,
   "id": "df19e96e",
   "metadata": {},
   "outputs": [],
   "source": []
  }
 ],
 "metadata": {
  "kernelspec": {
   "display_name": "Python 3",
   "language": "python",
   "name": "python3"
  },
  "language_info": {
   "codemirror_mode": {
    "name": "ipython",
    "version": 3
   },
   "file_extension": ".py",
   "mimetype": "text/x-python",
   "name": "python",
   "nbconvert_exporter": "python",
   "pygments_lexer": "ipython3",
   "version": "3.8.6"
  }
 },
 "nbformat": 4,
 "nbformat_minor": 5
}
