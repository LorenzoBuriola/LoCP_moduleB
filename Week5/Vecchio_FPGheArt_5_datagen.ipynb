{
 "cells": [
  {
   "cell_type": "code",
   "execution_count": 1,
   "id": "invalid-begin",
   "metadata": {
    "tags": []
   },
   "outputs": [],
   "source": [
    "import csv\n",
    "# random seed for reproducibility\n",
    "import random\n",
    "random.seed(12)"
   ]
  },
  {
   "cell_type": "code",
   "execution_count": 2,
   "id": "afraid-sunday",
   "metadata": {},
   "outputs": [
    {
     "name": "stdout",
     "output_type": "stream",
     "text": [
      "[[1, 1, 0, 0, 1, 1, 0, 0], [0, 0, 1, 1, 1, 1, 0, 0], [1, 1, 0, 0, 0, 0, 1, 1], [0, 0, 1, 1, 0, 0, 1, 1]]\n"
     ]
    }
   ],
   "source": [
    "seqstr = ['11001100', '00111100', '11000011', '00110011']\n",
    "seq = [[int(i) for i in seqstr[j]] for j in range(len(seqstr))]\n",
    "q = 0.1\n",
    "N = 10000\n",
    "print(seq)"
   ]
  },
  {
   "cell_type": "code",
   "execution_count": 3,
   "id": "indonesian-sheet",
   "metadata": {},
   "outputs": [],
   "source": [
    "def create_data(seq, N = 10000):\n",
    "    data = []\n",
    "    label = []\n",
    "    for i in range(N):\n",
    "        n = random.randint(0,len(seq)-1)\n",
    "        data.append(seq[n])\n",
    "        label.append(n)\n",
    "    return data, label"
   ]
  },
  {
   "cell_type": "code",
   "execution_count": 4,
   "id": "cheap-summer",
   "metadata": {},
   "outputs": [],
   "source": [
    "x,y = create_data(seq)"
   ]
  },
  {
   "cell_type": "code",
   "execution_count": 6,
   "id": "industrial-strip",
   "metadata": {},
   "outputs": [
    {
     "name": "stdout",
     "output_type": "stream",
     "text": [
      "DATA/dataRBM_clean4_q0.1.csv\n"
     ]
    }
   ],
   "source": [
    "fname1 = 'DATA/dataRBM_clean' + str(len(seq)) + '_q'+str(q)+'.csv'\n",
    "print(fname1)\n",
    "# any way to do it in one line?\n",
    "with open(fname1, mode='w') as myfile:\n",
    "    writer = csv.writer(myfile, delimiter=',')\n",
    "    for i in range(N):\n",
    "        writer.writerow(x[i])"
   ]
  },
  {
   "cell_type": "code",
   "execution_count": 7,
   "id": "cordless-thailand",
   "metadata": {},
   "outputs": [],
   "source": [
    "ls = []\n",
    "for n in range(len(x)):\n",
    "    a = []\n",
    "    for j in range(len(x[0])):\n",
    "        k = random.random()\n",
    "        a.append(k)\n",
    "        if k<q:\n",
    "            x[n][j] = 1-x[n][j]\n",
    "    ls.append(a)"
   ]
  },
  {
   "cell_type": "code",
   "execution_count": 8,
   "id": "deluxe-closing",
   "metadata": {},
   "outputs": [
    {
     "name": "stdout",
     "output_type": "stream",
     "text": [
      "DATA/dataRBM_seq4_q0.1.csv\n"
     ]
    }
   ],
   "source": [
    "fname2 = 'DATA/dataRBM_seq' + str(len(seq)) + '_q'+str(q)+'.csv'\n",
    "print(fname2)\n",
    "# any way to do it in one line?\n",
    "with open(fname2, mode='w') as myfile:\n",
    "    writer = csv.writer(myfile, delimiter=',')\n",
    "    for i in range(N):\n",
    "        writer.writerow(x[i])"
   ]
  },
  {
   "cell_type": "code",
   "execution_count": 9,
   "id": "biological-module",
   "metadata": {},
   "outputs": [],
   "source": [
    "import pandas as pd\n",
    "import numpy as np"
   ]
  },
  {
   "cell_type": "code",
   "execution_count": 44,
   "id": "equipped-georgia",
   "metadata": {},
   "outputs": [],
   "source": [
    "clean = pd.read_csv('DATA/dataRBM_clean4_q0.1.csv', header=None)\n",
    "noise = pd.read_csv('DATA/dataRBM_seq4_q0.1.csv', header=None)"
   ]
  },
  {
   "cell_type": "code",
   "execution_count": 45,
   "id": "illegal-punch",
   "metadata": {},
   "outputs": [
    {
     "data": {
      "text/plain": [
       "0     5077\n",
       "1     5070\n",
       "2     2579\n",
       "3     7502\n",
       "4     5011\n",
       "5     7421\n",
       "6     7502\n",
       "7    10000\n",
       "dtype: int64"
      ]
     },
     "execution_count": 45,
     "metadata": {},
     "output_type": "execute_result"
    }
   ],
   "source": [
    "abs(clean-noise).sum()"
   ]
  },
  {
   "cell_type": "code",
   "execution_count": 18,
   "id": "thorough-roller",
   "metadata": {},
   "outputs": [
    {
     "data": {
      "text/plain": [
       "(10000, 8)"
      ]
     },
     "execution_count": 18,
     "metadata": {},
     "output_type": "execute_result"
    }
   ],
   "source": [
    "number = np.asarray(ls)\n",
    "number.shape"
   ]
  },
  {
   "cell_type": "code",
   "execution_count": 19,
   "id": "economic-plaza",
   "metadata": {},
   "outputs": [],
   "source": [
    "number = number.reshape(8*10000, )"
   ]
  },
  {
   "cell_type": "code",
   "execution_count": 20,
   "id": "acceptable-student",
   "metadata": {},
   "outputs": [],
   "source": [
    "import matplotlib.pyplot as plt"
   ]
  },
  {
   "cell_type": "code",
   "execution_count": 21,
   "id": "annoying-harmony",
   "metadata": {},
   "outputs": [
    {
     "data": {
      "image/png": "[encoded data removed]",
      "text/plain": [
       "<Figure size 432x288 with 1 Axes>"
      ]
     },
     "metadata": {
      "needs_background": "light"
     },
     "output_type": "display_data"
    }
   ],
   "source": [
    "plt.hist(number, bins = 10)\n",
    "plt.show()"
   ]
  },
  {
   "cell_type": "code",
   "execution_count": 22,
   "id": "satellite-batman",
   "metadata": {},
   "outputs": [],
   "source": [
    "df = pd.DataFrame(ls)"
   ]
  },
  {
   "cell_type": "code",
   "execution_count": 23,
   "id": "closed-stand",
   "metadata": {},
   "outputs": [
    {
     "data": {
      "text/html": [
       "<div>\n",
       "<style scoped>\n",
       "    .dataframe tbody tr th:only-of-type {\n",
       "        vertical-align: middle;\n",
       "    }\n",
       "\n",
       "    .dataframe tbody tr th {\n",
       "        vertical-align: top;\n",
       "    }\n",
       "\n",
       "    .dataframe thead th {\n",
       "        text-align: right;\n",
       "    }\n",
       "</style>\n",
       "<table border=\"1\" class=\"dataframe\">\n",
       "  <thead>\n",
       "    <tr style=\"text-align: right;\">\n",
       "      <th></th>\n",
       "      <th>0</th>\n",
       "      <th>1</th>\n",
       "      <th>2</th>\n",
       "      <th>3</th>\n",
       "      <th>4</th>\n",
       "      <th>5</th>\n",
       "      <th>6</th>\n",
       "      <th>7</th>\n",
       "    </tr>\n",
       "  </thead>\n",
       "  <tbody>\n",
       "    <tr>\n",
       "      <th>0</th>\n",
       "      <td>0.417557</td>\n",
       "      <td>0.064063</td>\n",
       "      <td>0.403302</td>\n",
       "      <td>0.595251</td>\n",
       "      <td>0.525448</td>\n",
       "      <td>0.344640</td>\n",
       "      <td>0.982797</td>\n",
       "      <td>0.373119</td>\n",
       "    </tr>\n",
       "    <tr>\n",
       "      <th>1</th>\n",
       "      <td>0.163552</td>\n",
       "      <td>0.769653</td>\n",
       "      <td>0.090997</td>\n",
       "      <td>0.640141</td>\n",
       "      <td>0.745935</td>\n",
       "      <td>0.259837</td>\n",
       "      <td>0.470214</td>\n",
       "      <td>0.117229</td>\n",
       "    </tr>\n",
       "    <tr>\n",
       "      <th>2</th>\n",
       "      <td>0.081289</td>\n",
       "      <td>0.876080</td>\n",
       "      <td>0.349165</td>\n",
       "      <td>0.157895</td>\n",
       "      <td>0.361336</td>\n",
       "      <td>0.447804</td>\n",
       "      <td>0.111083</td>\n",
       "      <td>0.634627</td>\n",
       "    </tr>\n",
       "    <tr>\n",
       "      <th>3</th>\n",
       "      <td>0.870655</td>\n",
       "      <td>0.184758</td>\n",
       "      <td>0.405208</td>\n",
       "      <td>0.562967</td>\n",
       "      <td>0.534145</td>\n",
       "      <td>0.647940</td>\n",
       "      <td>0.872766</td>\n",
       "      <td>0.268908</td>\n",
       "    </tr>\n",
       "    <tr>\n",
       "      <th>4</th>\n",
       "      <td>0.868388</td>\n",
       "      <td>0.385482</td>\n",
       "      <td>0.097887</td>\n",
       "      <td>0.872494</td>\n",
       "      <td>0.527392</td>\n",
       "      <td>0.190079</td>\n",
       "      <td>0.725091</td>\n",
       "      <td>0.489035</td>\n",
       "    </tr>\n",
       "    <tr>\n",
       "      <th>...</th>\n",
       "      <td>...</td>\n",
       "      <td>...</td>\n",
       "      <td>...</td>\n",
       "      <td>...</td>\n",
       "      <td>...</td>\n",
       "      <td>...</td>\n",
       "      <td>...</td>\n",
       "      <td>...</td>\n",
       "    </tr>\n",
       "    <tr>\n",
       "      <th>9995</th>\n",
       "      <td>0.894021</td>\n",
       "      <td>0.895594</td>\n",
       "      <td>0.528976</td>\n",
       "      <td>0.966961</td>\n",
       "      <td>0.941121</td>\n",
       "      <td>0.891589</td>\n",
       "      <td>0.902932</td>\n",
       "      <td>0.026070</td>\n",
       "    </tr>\n",
       "    <tr>\n",
       "      <th>9996</th>\n",
       "      <td>0.915145</td>\n",
       "      <td>0.865652</td>\n",
       "      <td>0.131019</td>\n",
       "      <td>0.003003</td>\n",
       "      <td>0.288016</td>\n",
       "      <td>0.448341</td>\n",
       "      <td>0.647954</td>\n",
       "      <td>0.754329</td>\n",
       "    </tr>\n",
       "    <tr>\n",
       "      <th>9997</th>\n",
       "      <td>0.519211</td>\n",
       "      <td>0.740060</td>\n",
       "      <td>0.240577</td>\n",
       "      <td>0.546035</td>\n",
       "      <td>0.039826</td>\n",
       "      <td>0.516222</td>\n",
       "      <td>0.932322</td>\n",
       "      <td>0.207493</td>\n",
       "    </tr>\n",
       "    <tr>\n",
       "      <th>9998</th>\n",
       "      <td>0.530254</td>\n",
       "      <td>0.075554</td>\n",
       "      <td>0.731229</td>\n",
       "      <td>0.350909</td>\n",
       "      <td>0.481252</td>\n",
       "      <td>0.193207</td>\n",
       "      <td>0.693494</td>\n",
       "      <td>0.907369</td>\n",
       "    </tr>\n",
       "    <tr>\n",
       "      <th>9999</th>\n",
       "      <td>0.442379</td>\n",
       "      <td>0.805334</td>\n",
       "      <td>0.239566</td>\n",
       "      <td>0.047906</td>\n",
       "      <td>0.163137</td>\n",
       "      <td>0.168785</td>\n",
       "      <td>0.768470</td>\n",
       "      <td>0.805918</td>\n",
       "    </tr>\n",
       "  </tbody>\n",
       "</table>\n",
       "<p>10000 rows × 8 columns</p>\n",
       "</div>"
      ],
      "text/plain": [
       "             0         1         2         3         4         5         6  \\\n",
       "0     0.417557  0.064063  0.403302  0.595251  0.525448  0.344640  0.982797   \n",
       "1     0.163552  0.769653  0.090997  0.640141  0.745935  0.259837  0.470214   \n",
       "2     0.081289  0.876080  0.349165  0.157895  0.361336  0.447804  0.111083   \n",
       "3     0.870655  0.184758  0.405208  0.562967  0.534145  0.647940  0.872766   \n",
       "4     0.868388  0.385482  0.097887  0.872494  0.527392  0.190079  0.725091   \n",
       "...        ...       ...       ...       ...       ...       ...       ...   \n",
       "9995  0.894021  0.895594  0.528976  0.966961  0.941121  0.891589  0.902932   \n",
       "9996  0.915145  0.865652  0.131019  0.003003  0.288016  0.448341  0.647954   \n",
       "9997  0.519211  0.740060  0.240577  0.546035  0.039826  0.516222  0.932322   \n",
       "9998  0.530254  0.075554  0.731229  0.350909  0.481252  0.193207  0.693494   \n",
       "9999  0.442379  0.805334  0.239566  0.047906  0.163137  0.168785  0.768470   \n",
       "\n",
       "             7  \n",
       "0     0.373119  \n",
       "1     0.117229  \n",
       "2     0.634627  \n",
       "3     0.268908  \n",
       "4     0.489035  \n",
       "...        ...  \n",
       "9995  0.026070  \n",
       "9996  0.754329  \n",
       "9997  0.207493  \n",
       "9998  0.907369  \n",
       "9999  0.805918  \n",
       "\n",
       "[10000 rows x 8 columns]"
      ]
     },
     "execution_count": 23,
     "metadata": {},
     "output_type": "execute_result"
    }
   ],
   "source": [
    "df"
   ]
  },
  {
   "cell_type": "code",
   "execution_count": 37,
   "id": "lesbian-chaos",
   "metadata": {},
   "outputs": [],
   "source": [
    "kakka = df[df < q]\n",
    "kakka[kakka > 0] = 1\n",
    "kakka.fillna(0)\n",
    "kakka.sum()\n",
    "noise = clean*(1-kakka) + kakka*(1-clean)"
   ]
  },
  {
   "cell_type": "code",
   "execution_count": 38,
   "id": "magnetic-mentor",
   "metadata": {},
   "outputs": [
    {
     "data": {
      "text/plain": [
       "0    1012.0\n",
       "1     968.0\n",
       "2     981.0\n",
       "3    1037.0\n",
       "4    1040.0\n",
       "5    1021.0\n",
       "6     985.0\n",
       "7     994.0\n",
       "dtype: float64"
      ]
     },
     "execution_count": 38,
     "metadata": {},
     "output_type": "execute_result"
    }
   ],
   "source": [
    "abs(clean-noise).sum()"
   ]
  },
  {
   "cell_type": "code",
   "execution_count": 39,
   "id": "geographic-leonard",
   "metadata": {},
   "outputs": [
    {
     "name": "stdout",
     "output_type": "stream",
     "text": [
      "8038\n"
     ]
    }
   ],
   "source": [
    "count = 0\n",
    "for n in range(len(ls)):\n",
    "    for j in range(len(ls[0])):\n",
    "        if ls[n][j]<q:\n",
    "            count += 1\n",
    "print(count)"
   ]
  },
  {
   "cell_type": "code",
   "execution_count": null,
   "id": "ready-kinase",
   "metadata": {},
   "outputs": [],
   "source": []
  }
 ],
 "metadata": {
  "kernelspec": {
   "display_name": "Python 3",
   "language": "python",
   "name": "python3"
  },
  "language_info": {
   "codemirror_mode": {
    "name": "ipython",
    "version": 3
   },
   "file_extension": ".py",
   "mimetype": "text/x-python",
   "name": "python",
   "nbconvert_exporter": "python",
   "pygments_lexer": "ipython3",
   "version": "3.7.0"
  }
 },
 "nbformat": 4,
 "nbformat_minor": 5
}
