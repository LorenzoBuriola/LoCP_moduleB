{
 "cells": [
  {
   "cell_type": "markdown",
   "metadata": {},
   "source": [
    "# FPGheArt - Week 2 exercise\n",
    "\n",
    "### Lorenzo Buriola - 2021860\n",
    "### Filippo Conforto - 2021856\n",
    "### Lorenzo Domenichetti - 2011653\n",
    "\n",
    "\n"
   ]
  },
  {
   "cell_type": "code",
   "execution_count": 1,
   "metadata": {},
   "outputs": [],
   "source": [
    "import numpy as np\n",
    "import matplotlib.pyplot as plt\n",
    "import keras\n",
    "from keras.models import Sequential\n",
    "from keras.layers import Dense, Dropout\n",
    "from keras.optimizers import SGD \n",
    "from sklearn.model_selection import GridSearchCV\n",
    "from keras.wrappers.scikit_learn import KerasClassifier\n",
    "import pandas as pd\n",
    "import time"
   ]
  },
  {
   "cell_type": "markdown",
   "metadata": {},
   "source": [
    "### Data (strings) and splitting"
   ]
  },
  {
   "cell_type": "code",
   "execution_count": 2,
   "metadata": {},
   "outputs": [],
   "source": [
    "fname=\"DATA/sequences16.csv\"\n",
    "sx, sy = np.loadtxt(fname,delimiter=',',\n",
    "                   usecols= (0,1), unpack=True, dtype = str)"
   ]
  },
  {
   "cell_type": "code",
   "execution_count": 3,
   "metadata": {},
   "outputs": [
    {
     "name": "stdout",
     "output_type": "stream",
     "text": [
      "Number of total samples 3000\n",
      "Lenght of a sample 16\n",
      "Sample: AAGGTCTGCCGGCCGA, label: 1\n",
      "\n",
      "data:3000\n",
      "train: 2400\n",
      "test: 600\n"
     ]
    }
   ],
   "source": [
    "N = len(sy)\n",
    "print(f\"Number of total samples {N}\")\n",
    "Ls = len(sx[0])\n",
    "print(f\"Lenght of a sample {Ls}\")\n",
    "\n",
    "print(f\"Sample: {sx[0]}, label: {sy[0]}\")\n",
    "\n",
    "perc_train = 0.8\n",
    "N_train = int(N*perc_train)\n",
    "N_test = N -N_train\n",
    "print(f'\\ndata:{N}\\ntrain: {N_train}\\ntest: {N_test}')"
   ]
  },
  {
   "cell_type": "code",
   "execution_count": 4,
   "metadata": {},
   "outputs": [
    {
     "name": "stdout",
     "output_type": "stream",
     "text": [
      "One-hot encoding dictionary: {'A': 0, 'C': 1, 'G': 2, 'T': 3}\n"
     ]
    }
   ],
   "source": [
    "Q = ['A', 'C', 'G', 'T']\n",
    "Nc=4\n",
    "onehc = {Q[i]: i for i in range(Nc)}\n",
    "print(f\"One-hot encoding dictionary: {onehc}\")"
   ]
  },
  {
   "cell_type": "markdown",
   "metadata": {},
   "source": [
    "### Data conversion: One-Hot Encoding\n",
    "\n"
   ]
  },
  {
   "cell_type": "code",
   "execution_count": 5,
   "metadata": {},
   "outputs": [
    {
     "name": "stdout",
     "output_type": "stream",
     "text": [
      "Product of lenght (16) and character possibilities (4): 64\n",
      "\n",
      "Original sequence:\n",
      " AAGGTCTGCCGGCCGA\n",
      "\n",
      "Encoded sequence:\n",
      " [1. 0. 0. 0. 1. 0. 0. 0. 0. 0. 1. 0. 0. 0. 1. 0. 0. 0. 0. 1. 0. 1. 0. 0.\n",
      " 0. 0. 0. 1. 0. 0. 1. 0. 0. 1. 0. 0. 0. 1. 0. 0. 0. 0. 1. 0. 0. 0. 1. 0.\n",
      " 0. 1. 0. 0. 0. 1. 0. 0. 0. 0. 1. 0. 1. 0. 0. 0.]\n"
     ]
    }
   ],
   "source": [
    "y = sy.astype(int)\n",
    "\n",
    "L = Ls*Nc\n",
    "print(f\"Product of lenght ({Ls}) and character possibilities ({Nc}): {L}\\n\")\n",
    "\n",
    "x= np.zeros((N,L))\n",
    "\n",
    "for n in range(N):\n",
    "    for i in range(Ls):\n",
    "        x[n][i*4 + onehc[sx[n][i]]] = 1\n",
    "print(f\"Original sequence:\\n {sx[0]}\\n\")\n",
    "print(f\"Encoded sequence:\\n {x[0]}\")"
   ]
  },
  {
   "cell_type": "markdown",
   "metadata": {},
   "source": [
    "### Split train/test - validation"
   ]
  },
  {
   "cell_type": "code",
   "execution_count": 6,
   "metadata": {},
   "outputs": [
    {
     "name": "stdout",
     "output_type": "stream",
     "text": [
      "Ratio between y_train labels sum and train samples: 0.24333333333333335\n",
      "Ratio between y_test  labels sum and test samples: 0.25833333333333336\n"
     ]
    }
   ],
   "source": [
    "(x_train, y_train) = (x[:N_train], y[:N_train])\n",
    "(x_test, y_test) = (x[N_train:], y[N_train:])\n",
    "print(f\"Ratio between y_train labels sum and train samples: {y_train.sum() / N_train}\")\n",
    "print(f\"Ratio between y_test  labels sum and test samples: {y_test.sum() / N_test}\")\n"
   ]
  },
  {
   "cell_type": "markdown",
   "metadata": {},
   "source": [
    "### Definition of model in Keras"
   ]
  },
  {
   "cell_type": "code",
   "execution_count": 7,
   "metadata": {},
   "outputs": [
    {
     "name": "stdout",
     "output_type": "stream",
     "text": [
      "Model: \"sequential\"\n",
      "_________________________________________________________________\n",
      "Layer (type)                 Output Shape              Param #   \n",
      "=================================================================\n",
      "dense (Dense)                (None, 64)                4160      \n",
      "_________________________________________________________________\n",
      "dense_1 (Dense)              (None, 32)                2080      \n",
      "_________________________________________________________________\n",
      "dense_2 (Dense)              (None, 16)                528       \n",
      "_________________________________________________________________\n",
      "dropout (Dropout)            (None, 16)                0         \n",
      "_________________________________________________________________\n",
      "dense_3 (Dense)              (None, 1)                 17        \n",
      "=================================================================\n",
      "Total params: 6,785\n",
      "Trainable params: 6,785\n",
      "Non-trainable params: 0\n",
      "_________________________________________________________________\n"
     ]
    }
   ],
   "source": [
    "np.random.seed(123)\n",
    "\n",
    "model = Sequential()\n",
    "\n",
    "model.add(Dense(L,input_shape=(L,),activation = \"relu\"))\n",
    "model.add(Dense(L/2,activation = \"relu\"))\n",
    "model.add(Dense(L/4,activation = \"relu\"))\n",
    "model.add(Dropout(0.2))\n",
    "model.add(Dense(1,activation=\"sigmoid\"))\n",
    "\n",
    "model.summary()"
   ]
  },
  {
   "cell_type": "code",
   "execution_count": 8,
   "metadata": {},
   "outputs": [],
   "source": [
    "model.compile(loss=\"binary_crossentropy\",\n",
    "             optimizer=\"adam\",\n",
    "             metrics= [\"accuracy\"])"
   ]
  },
  {
   "cell_type": "code",
   "execution_count": 9,
   "metadata": {
    "scrolled": true
   },
   "outputs": [
    {
     "name": "stdout",
     "output_type": "stream",
     "text": [
      "Epoch 1/30\n",
      "48/48 [==============================] - 2s 16ms/step - loss: 0.6092 - accuracy: 0.7332 - val_loss: 0.5556 - val_accuracy: 0.7417\n",
      "Epoch 2/30\n",
      "48/48 [==============================] - 0s 7ms/step - loss: 0.5280 - accuracy: 0.7601 - val_loss: 0.5301 - val_accuracy: 0.7417\n",
      "Epoch 3/30\n",
      "48/48 [==============================] - 0s 7ms/step - loss: 0.5178 - accuracy: 0.7456 - val_loss: 0.5123 - val_accuracy: 0.7417\n",
      "Epoch 4/30\n",
      "48/48 [==============================] - 0s 7ms/step - loss: 0.4568 - accuracy: 0.7707 - val_loss: 0.4975 - val_accuracy: 0.7500\n",
      "Epoch 5/30\n",
      "48/48 [==============================] - 0s 7ms/step - loss: 0.4661 - accuracy: 0.7596 - val_loss: 0.5049 - val_accuracy: 0.7533\n",
      "Epoch 6/30\n",
      "48/48 [==============================] - 0s 7ms/step - loss: 0.4168 - accuracy: 0.7870 - val_loss: 0.4829 - val_accuracy: 0.7533\n",
      "Epoch 7/30\n",
      "48/48 [==============================] - 0s 7ms/step - loss: 0.4009 - accuracy: 0.8144 - val_loss: 0.4906 - val_accuracy: 0.7500\n",
      "Epoch 8/30\n",
      "48/48 [==============================] - 0s 7ms/step - loss: 0.3861 - accuracy: 0.8244 - val_loss: 0.4918 - val_accuracy: 0.7450\n",
      "Epoch 9/30\n",
      "48/48 [==============================] - 0s 7ms/step - loss: 0.3368 - accuracy: 0.8571 - val_loss: 0.5078 - val_accuracy: 0.7500\n",
      "Epoch 10/30\n",
      "48/48 [==============================] - 0s 7ms/step - loss: 0.3222 - accuracy: 0.8655 - val_loss: 0.4995 - val_accuracy: 0.7550\n",
      "Epoch 11/30\n",
      "48/48 [==============================] - 0s 7ms/step - loss: 0.2871 - accuracy: 0.8807 - val_loss: 0.5193 - val_accuracy: 0.7500\n",
      "Epoch 12/30\n",
      "48/48 [==============================] - 0s 7ms/step - loss: 0.2544 - accuracy: 0.8964 - val_loss: 0.5406 - val_accuracy: 0.7633\n",
      "Epoch 13/30\n",
      "48/48 [==============================] - 0s 7ms/step - loss: 0.2154 - accuracy: 0.9160 - val_loss: 0.5433 - val_accuracy: 0.7517\n",
      "Epoch 14/30\n",
      "48/48 [==============================] - 0s 7ms/step - loss: 0.1843 - accuracy: 0.9378 - val_loss: 0.6105 - val_accuracy: 0.7633\n",
      "Epoch 15/30\n",
      "48/48 [==============================] - 0s 7ms/step - loss: 0.1545 - accuracy: 0.9467 - val_loss: 0.6290 - val_accuracy: 0.7550\n",
      "Epoch 16/30\n",
      "48/48 [==============================] - 0s 9ms/step - loss: 0.1300 - accuracy: 0.9663 - val_loss: 0.6494 - val_accuracy: 0.7633\n",
      "Epoch 17/30\n",
      "48/48 [==============================] - 0s 7ms/step - loss: 0.1150 - accuracy: 0.9636 - val_loss: 0.6956 - val_accuracy: 0.7583\n",
      "Epoch 18/30\n",
      "48/48 [==============================] - 0s 8ms/step - loss: 0.0919 - accuracy: 0.9728 - val_loss: 0.6794 - val_accuracy: 0.7767\n",
      "Epoch 19/30\n",
      "48/48 [==============================] - 0s 8ms/step - loss: 0.0858 - accuracy: 0.9809 - val_loss: 0.7780 - val_accuracy: 0.7550\n",
      "Epoch 20/30\n",
      "48/48 [==============================] - 0s 8ms/step - loss: 0.0666 - accuracy: 0.9832 - val_loss: 0.7661 - val_accuracy: 0.7733\n",
      "Epoch 21/30\n",
      "48/48 [==============================] - 0s 8ms/step - loss: 0.0536 - accuracy: 0.9893 - val_loss: 0.8586 - val_accuracy: 0.7550\n",
      "Epoch 22/30\n",
      "48/48 [==============================] - 0s 8ms/step - loss: 0.0466 - accuracy: 0.9924 - val_loss: 0.8943 - val_accuracy: 0.7633\n",
      "Epoch 23/30\n",
      "48/48 [==============================] - 0s 8ms/step - loss: 0.0263 - accuracy: 0.9977 - val_loss: 0.9135 - val_accuracy: 0.7733\n",
      "Epoch 24/30\n",
      "48/48 [==============================] - 0s 7ms/step - loss: 0.0270 - accuracy: 0.9951 - val_loss: 0.9578 - val_accuracy: 0.7650\n",
      "Epoch 25/30\n",
      "48/48 [==============================] - 0s 7ms/step - loss: 0.0220 - accuracy: 0.9963 - val_loss: 1.0495 - val_accuracy: 0.7683\n",
      "Epoch 26/30\n",
      "48/48 [==============================] - 0s 7ms/step - loss: 0.0182 - accuracy: 0.9991 - val_loss: 1.0907 - val_accuracy: 0.7683\n",
      "Epoch 27/30\n",
      "48/48 [==============================] - 0s 7ms/step - loss: 0.0184 - accuracy: 0.9974 - val_loss: 1.0805 - val_accuracy: 0.7667\n",
      "Epoch 28/30\n",
      "48/48 [==============================] - 0s 8ms/step - loss: 0.0131 - accuracy: 0.9983 - val_loss: 1.1194 - val_accuracy: 0.7717\n",
      "Epoch 29/30\n",
      "48/48 [==============================] - 0s 7ms/step - loss: 0.0112 - accuracy: 0.9999 - val_loss: 1.1847 - val_accuracy: 0.7650\n",
      "Epoch 30/30\n",
      "48/48 [==============================] - 0s 8ms/step - loss: 0.0075 - accuracy: 1.0000 - val_loss: 1.2084 - val_accuracy: 0.7700\n"
     ]
    }
   ],
   "source": [
    "fit = model.fit(x_train, y_train,\n",
    "                epochs=30, batch_size = 50, validation_data = (x_test,y_test), shuffle = True,)\n"
   ]
  },
  {
   "cell_type": "code",
   "execution_count": 10,
   "metadata": {},
   "outputs": [
    {
     "name": "stdout",
     "output_type": "stream",
     "text": [
      "19/19 [==============================] - 0s 5ms/step - loss: 1.2084 - accuracy: 0.7700\n",
      "Final Test loss: 1.2083771228790283\n",
      "Final Test accuracy: 0.7699999809265137\n"
     ]
    },
    {
     "data": {
      "image/png": "[encoded data removed]",
      "text/plain": [
       "<Figure size 432x288 with 1 Axes>"
      ]
     },
     "metadata": {
      "needs_background": "light"
     },
     "output_type": "display_data"
    },
    {
     "data": {
      "image/png": "[encoded data removed]",
      "text/plain": [
       "<Figure size 432x288 with 1 Axes>"
      ]
     },
     "metadata": {
      "needs_background": "light"
     },
     "output_type": "display_data"
    }
   ],
   "source": [
    "# evaluate model\n",
    "score = model.evaluate(x_test, y_test, verbose=1)\n",
    "\n",
    "# print performance\n",
    "print('Final Test loss:', score[0])\n",
    "print('Final Test accuracy:', score[1])\n",
    "\n",
    "# look into training history\n",
    "\n",
    "# summarize history for accuracy\n",
    "plt.plot(fit.history['accuracy'])\n",
    "plt.plot(fit.history['val_accuracy'])\n",
    "plt.ylabel('model accuracy')\n",
    "plt.xlabel('epoch')\n",
    "plt.legend(['train', 'test'], loc='best')\n",
    "plt.show()\n",
    "\n",
    "# summarize history for loss\n",
    "plt.plot(fit.history['loss'])\n",
    "plt.plot(fit.history['val_loss'])\n",
    "plt.ylabel('model loss')\n",
    "plt.xlabel('epoch')\n",
    "plt.legend(['train', 'test'], loc='best')\n",
    "plt.show()"
   ]
  },
  {
   "cell_type": "markdown",
   "metadata": {},
   "source": [
    "## Data augmentation"
   ]
  },
  {
   "cell_type": "code",
   "execution_count": 11,
   "metadata": {},
   "outputs": [],
   "source": [
    "augval = np.asarray([[[v[-i:] + v[:-i],vy] for i in range(16)] for v,vy in zip(sx[:N_train],y[:N_train])]).reshape(38400,2)\n",
    "augsx = augval[:,0]\n",
    "augy_train = augval[:,1].astype(int)"
   ]
  },
  {
   "cell_type": "code",
   "execution_count": 12,
   "metadata": {},
   "outputs": [],
   "source": [
    "augx_train = np.zeros((N_train*16,L))\n",
    "\n",
    "for n in range(N_train*16):\n",
    "    for i in range(Ls):\n",
    "        augx_train[n][i*4 + onehc[augsx[n][i]]] = 1\n",
    "aug_N_train = N_train*16\n"
   ]
  },
  {
   "cell_type": "markdown",
   "metadata": {},
   "source": [
    "### Split train/test - validation"
   ]
  },
  {
   "cell_type": "code",
   "execution_count": 13,
   "metadata": {
    "scrolled": true
   },
   "outputs": [
    {
     "name": "stdout",
     "output_type": "stream",
     "text": [
      "Epoch 1/30\n",
      "768/768 [==============================] - 5s 6ms/step - loss: 0.4360 - accuracy: 0.8093 - val_loss: 0.3632 - val_accuracy: 0.8217\n",
      "Epoch 2/30\n",
      "768/768 [==============================] - 5s 6ms/step - loss: 0.3525 - accuracy: 0.8472 - val_loss: 0.3153 - val_accuracy: 0.8600\n",
      "Epoch 3/30\n",
      "768/768 [==============================] - 4s 6ms/step - loss: 0.3127 - accuracy: 0.8692 - val_loss: 0.2932 - val_accuracy: 0.8750\n",
      "Epoch 4/30\n",
      "768/768 [==============================] - 4s 5ms/step - loss: 0.2851 - accuracy: 0.8857 - val_loss: 0.2806 - val_accuracy: 0.8800\n",
      "Epoch 5/30\n",
      "768/768 [==============================] - 4s 5ms/step - loss: 0.2662 - accuracy: 0.8955 - val_loss: 0.2784 - val_accuracy: 0.8833\n",
      "Epoch 6/30\n",
      "768/768 [==============================] - 4s 5ms/step - loss: 0.2547 - accuracy: 0.9010 - val_loss: 0.2677 - val_accuracy: 0.8817\n",
      "Epoch 7/30\n",
      "768/768 [==============================] - 4s 5ms/step - loss: 0.2444 - accuracy: 0.9077 - val_loss: 0.2751 - val_accuracy: 0.8817\n",
      "Epoch 8/30\n",
      "768/768 [==============================] - 4s 6ms/step - loss: 0.2375 - accuracy: 0.9106 - val_loss: 0.2731 - val_accuracy: 0.8833\n",
      "Epoch 9/30\n",
      "768/768 [==============================] - 4s 5ms/step - loss: 0.2322 - accuracy: 0.9141 - val_loss: 0.2544 - val_accuracy: 0.8900\n",
      "Epoch 10/30\n",
      "768/768 [==============================] - 4s 5ms/step - loss: 0.2265 - accuracy: 0.9169 - val_loss: 0.2653 - val_accuracy: 0.8850\n",
      "Epoch 11/30\n",
      "768/768 [==============================] - 4s 6ms/step - loss: 0.2230 - accuracy: 0.9188 - val_loss: 0.2530 - val_accuracy: 0.9050\n",
      "Epoch 12/30\n",
      "768/768 [==============================] - 5s 7ms/step - loss: 0.2167 - accuracy: 0.9220 - val_loss: 0.2631 - val_accuracy: 0.9033\n",
      "Epoch 13/30\n",
      "768/768 [==============================] - 4s 6ms/step - loss: 0.2137 - accuracy: 0.9233 - val_loss: 0.2621 - val_accuracy: 0.8900\n",
      "Epoch 14/30\n",
      "768/768 [==============================] - 4s 5ms/step - loss: 0.2112 - accuracy: 0.9239 - val_loss: 0.2854 - val_accuracy: 0.8867\n",
      "Epoch 15/30\n",
      "768/768 [==============================] - 4s 5ms/step - loss: 0.2071 - accuracy: 0.9250 - val_loss: 0.2673 - val_accuracy: 0.8867\n",
      "Epoch 16/30\n",
      "768/768 [==============================] - 4s 5ms/step - loss: 0.2058 - accuracy: 0.9258 - val_loss: 0.2978 - val_accuracy: 0.8783\n",
      "Epoch 17/30\n",
      "768/768 [==============================] - 4s 5ms/step - loss: 0.2026 - accuracy: 0.9280 - val_loss: 0.2690 - val_accuracy: 0.8867\n",
      "Epoch 18/30\n",
      "768/768 [==============================] - 4s 5ms/step - loss: 0.1982 - accuracy: 0.9305 - val_loss: 0.2941 - val_accuracy: 0.8867\n",
      "Epoch 19/30\n",
      "768/768 [==============================] - 4s 5ms/step - loss: 0.1974 - accuracy: 0.9300 - val_loss: 0.2784 - val_accuracy: 0.8883\n",
      "Epoch 20/30\n",
      "768/768 [==============================] - 4s 6ms/step - loss: 0.1957 - accuracy: 0.9310 - val_loss: 0.3123 - val_accuracy: 0.8767\n",
      "Epoch 21/30\n",
      "768/768 [==============================] - 4s 6ms/step - loss: 0.1925 - accuracy: 0.9329 - val_loss: 0.3108 - val_accuracy: 0.8800\n",
      "Epoch 22/30\n",
      "768/768 [==============================] - 4s 5ms/step - loss: 0.1893 - accuracy: 0.9343 - val_loss: 0.2848 - val_accuracy: 0.8933\n",
      "Epoch 23/30\n",
      "768/768 [==============================] - 4s 5ms/step - loss: 0.1878 - accuracy: 0.9342 - val_loss: 0.3039 - val_accuracy: 0.8800\n",
      "Epoch 24/30\n",
      "768/768 [==============================] - 4s 6ms/step - loss: 0.1843 - accuracy: 0.9367 - val_loss: 0.3061 - val_accuracy: 0.8950\n",
      "Epoch 25/30\n",
      "768/768 [==============================] - 4s 5ms/step - loss: 0.1828 - accuracy: 0.9359 - val_loss: 0.2847 - val_accuracy: 0.8917\n",
      "Epoch 26/30\n",
      "768/768 [==============================] - 4s 6ms/step - loss: 0.1827 - accuracy: 0.9361 - val_loss: 0.3189 - val_accuracy: 0.8900\n",
      "Epoch 27/30\n",
      "768/768 [==============================] - 4s 5ms/step - loss: 0.1813 - accuracy: 0.9367 - val_loss: 0.2964 - val_accuracy: 0.8850\n",
      "Epoch 28/30\n",
      "768/768 [==============================] - 4s 5ms/step - loss: 0.1781 - accuracy: 0.9385 - val_loss: 0.3193 - val_accuracy: 0.8817\n",
      "Epoch 29/30\n",
      "768/768 [==============================] - 4s 5ms/step - loss: 0.1803 - accuracy: 0.9371 - val_loss: 0.3358 - val_accuracy: 0.8900\n",
      "Epoch 30/30\n",
      "768/768 [==============================] - 4s 5ms/step - loss: 0.1793 - accuracy: 0.9374 - val_loss: 0.2940 - val_accuracy: 0.8883\n"
     ]
    }
   ],
   "source": [
    "fit2 = model.fit(augx_train, augy_train,\n",
    "                epochs=30, batch_size = 50, validation_data = (x_test,y_test), shuffle = True,)\n"
   ]
  },
  {
   "cell_type": "code",
   "execution_count": 14,
   "metadata": {},
   "outputs": [
    {
     "name": "stdout",
     "output_type": "stream",
     "text": [
      "19/19 [==============================] - 0s 5ms/step - loss: 0.2940 - accuracy: 0.8883\n",
      "\n",
      "Test loss: 0.2940090298652649\n",
      "Test accuracy: 0.8883333206176758\n"
     ]
    },
    {
     "data": {
      "image/png": "[encoded data removed]",
      "text/plain": [
       "<Figure size 432x288 with 1 Axes>"
      ]
     },
     "metadata": {
      "needs_background": "light"
     },
     "output_type": "display_data"
    },
    {
     "data": {
      "image/png": "[encoded data removed]",
      "text/plain": [
       "<Figure size 432x288 with 1 Axes>"
      ]
     },
     "metadata": {
      "needs_background": "light"
     },
     "output_type": "display_data"
    }
   ],
   "source": [
    "# evaluate model\n",
    "score = model.evaluate(x_test, y_test, verbose=1)\n",
    "\n",
    "# print performance\n",
    "print()\n",
    "print('Test loss:', score[0])\n",
    "print('Test accuracy:', score[1])\n",
    "\n",
    "# look into training history\n",
    "\n",
    "# summarize history for accuracy\n",
    "plt.plot(fit2.history['accuracy'])\n",
    "plt.plot(fit2.history['val_accuracy'])\n",
    "plt.ylabel('model accuracy')\n",
    "plt.xlabel('epoch')\n",
    "plt.legend(['train', 'test'], loc='best')\n",
    "plt.show()\n",
    "\n",
    "# summarize history for loss\n",
    "plt.plot(fit2.history['loss'])\n",
    "plt.plot(fit2.history['val_loss'])\n",
    "plt.ylabel('model loss')\n",
    "plt.xlabel('epoch')\n",
    "plt.legend(['train', 'test'], loc='best')\n",
    "plt.show()"
   ]
  },
  {
   "cell_type": "markdown",
   "metadata": {},
   "source": [
    "## GridSearch"
   ]
  },
  {
   "cell_type": "code",
   "execution_count": null,
   "metadata": {},
   "outputs": [],
   "source": [
    "def create_DNN(activation, dropout_rate):\n",
    "    model = Sequential()\n",
    "\n",
    "    model.add(Dense(L,input_shape=(L,),activation = activation))\n",
    "    model.add(Dense(L/2,activation = activation))\n",
    "    model.add(Dense(L/4,activation = activation))\n",
    "    model.add(Dropout(dropout_rate))\n",
    "    model.add(Dense(1,activation=\"sigmoid\"))\n",
    "    return model\n"
   ]
  },
  {
   "cell_type": "code",
   "execution_count": null,
   "metadata": {},
   "outputs": [],
   "source": [
    "def compile_model(optimizer=keras.optimizers.Adam(), activation = \"relu\", dropout_rate = 0.2):\n",
    "    # create the mode\n",
    "    model=create_DNN(activation, dropout_rate)\n",
    "    # compile the model\n",
    "    model.compile(loss=keras.losses.binary_crossentropy,\n",
    "                  optimizer=optimizer,\n",
    "                  metrics=['accuracy'])\n",
    "    return model\n"
   ]
  },
  {
   "cell_type": "code",
   "execution_count": null,
   "metadata": {
    "scrolled": false
   },
   "outputs": [],
   "source": [
    "# call Keras scikit wrapper\n",
    "model_gridsearch = KerasClassifier(build_fn = compile_model)\n",
    "\n",
    "# list of allowed optional arguments for the optimizer, see `compile_model()`\n",
    "optimizer = ['SGD', 'RMSprop', 'Adagrad', 'Adadelta', 'Adam', 'Adamax', 'Nadam']\n",
    "activation = ['softmax', 'softplus', 'softsign', 'relu', 'tanh', 'sigmoid', 'hard_sigmoid', 'linear']\n",
    "dropout_rate = [0.0, 0.1, 0.2, 0.3, 0.4, 0.5, 0.6, 0.7, 0.8, 0.9]\n",
    "# define parameter dictionary\n",
    "param_grid = dict(optimizer=optimizer, activation = activation, dropout_rate=dropout_rate)\n",
    "# call scikit grid search module\n",
    "grid = GridSearchCV(estimator=model_gridsearch, param_grid=param_grid, n_jobs=1, cv=4)\n",
    "grid_result = grid.fit(x_train,y_train, epochs=30, batch_size = 50, shuffle = True)\n"
   ]
  },
  {
   "cell_type": "markdown",
   "metadata": {},
   "source": [
    "## Rescaling Data"
   ]
  },
  {
   "cell_type": "code",
   "execution_count": 18,
   "metadata": {},
   "outputs": [
    {
     "name": "stdout",
     "output_type": "stream",
     "text": [
      "[[ 0.75 -0.25 -0.25 ... -0.25 -0.25 -0.25]\n",
      " [ 0.75 -0.25 -0.25 ... -0.25  0.75 -0.25]\n",
      " [-0.25 -0.25  0.75 ...  0.75 -0.25 -0.25]\n",
      " ...\n",
      " [-0.25 -0.25 -0.25 ... -0.25 -0.25 -0.25]\n",
      " [ 0.75 -0.25 -0.25 ... -0.25 -0.25  0.75]\n",
      " [-0.25 -0.25 -0.25 ... -0.25 -0.25  0.75]]\n"
     ]
    }
   ],
   "source": [
    "augx_train_c = augx_train.copy()\n",
    "augx_train_c[augx_train_c==0]=-0.25\n",
    "augx_train_c[augx_train_c==1]=0.75\n",
    "x_test_c = x_test.copy()\n",
    "x_test_c[x_test_c==0]=-0.25\n",
    "x_test_c[x_test_c==1]=0.75\n",
    "print(augx_train_c)"
   ]
  },
  {
   "cell_type": "code",
   "execution_count": 22,
   "metadata": {
    "scrolled": true
   },
   "outputs": [
    {
     "name": "stdout",
     "output_type": "stream",
     "text": [
      "Epoch 1/30\n",
      "768/768 [==============================] - 4s 5ms/step - loss: 0.2524 - accuracy: 0.9080 - val_loss: 0.2888 - val_accuracy: 0.8917\n",
      "Epoch 2/30\n",
      "768/768 [==============================] - 4s 6ms/step - loss: 0.1987 - accuracy: 0.9279 - val_loss: 0.3056 - val_accuracy: 0.8783\n",
      "Epoch 3/30\n",
      "768/768 [==============================] - 4s 5ms/step - loss: 0.1864 - accuracy: 0.9344 - val_loss: 0.2783 - val_accuracy: 0.8967\n",
      "Epoch 4/30\n",
      "768/768 [==============================] - 4s 5ms/step - loss: 0.1813 - accuracy: 0.9360 - val_loss: 0.3123 - val_accuracy: 0.8900\n",
      "Epoch 5/30\n",
      "768/768 [==============================] - 4s 5ms/step - loss: 0.1760 - accuracy: 0.9390 - val_loss: 0.2860 - val_accuracy: 0.9033\n",
      "Epoch 6/30\n",
      "768/768 [==============================] - 4s 5ms/step - loss: 0.1722 - accuracy: 0.9404 - val_loss: 0.2873 - val_accuracy: 0.9033\n",
      "Epoch 7/30\n",
      "768/768 [==============================] - 4s 5ms/step - loss: 0.1714 - accuracy: 0.9405 - val_loss: 0.2924 - val_accuracy: 0.8950\n",
      "Epoch 8/30\n",
      "768/768 [==============================] - 4s 5ms/step - loss: 0.1697 - accuracy: 0.9408 - val_loss: 0.3025 - val_accuracy: 0.8833\n",
      "Epoch 9/30\n",
      "768/768 [==============================] - 4s 6ms/step - loss: 0.1656 - accuracy: 0.9441 - val_loss: 0.3127 - val_accuracy: 0.8783\n",
      "Epoch 10/30\n",
      "768/768 [==============================] - 5s 6ms/step - loss: 0.1662 - accuracy: 0.9428 - val_loss: 0.3145 - val_accuracy: 0.8900\n",
      "Epoch 11/30\n",
      "768/768 [==============================] - 4s 5ms/step - loss: 0.1632 - accuracy: 0.9451 - val_loss: 0.3111 - val_accuracy: 0.9067\n",
      "Epoch 12/30\n",
      "768/768 [==============================] - 4s 5ms/step - loss: 0.1620 - accuracy: 0.9438 - val_loss: 0.3004 - val_accuracy: 0.8933\n",
      "Epoch 13/30\n",
      "768/768 [==============================] - 4s 5ms/step - loss: 0.1593 - accuracy: 0.9450 - val_loss: 0.2975 - val_accuracy: 0.8983\n",
      "Epoch 14/30\n",
      "768/768 [==============================] - 4s 5ms/step - loss: 0.1594 - accuracy: 0.9455 - val_loss: 0.2881 - val_accuracy: 0.9100\n",
      "Epoch 15/30\n",
      "768/768 [==============================] - 4s 5ms/step - loss: 0.1587 - accuracy: 0.9460 - val_loss: 0.2824 - val_accuracy: 0.9083\n",
      "Epoch 16/30\n",
      "768/768 [==============================] - 4s 6ms/step - loss: 0.1539 - accuracy: 0.9479 - val_loss: 0.2975 - val_accuracy: 0.9000\n",
      "Epoch 17/30\n",
      "768/768 [==============================] - 4s 5ms/step - loss: 0.1537 - accuracy: 0.9474 - val_loss: 0.3332 - val_accuracy: 0.8967\n",
      "Epoch 18/30\n",
      "768/768 [==============================] - 4s 5ms/step - loss: 0.1536 - accuracy: 0.9477 - val_loss: 0.3223 - val_accuracy: 0.9000\n",
      "Epoch 19/30\n",
      "768/768 [==============================] - 4s 5ms/step - loss: 0.1545 - accuracy: 0.9470 - val_loss: 0.3109 - val_accuracy: 0.9067\n",
      "Epoch 20/30\n",
      "768/768 [==============================] - 4s 5ms/step - loss: 0.1537 - accuracy: 0.9473 - val_loss: 0.3166 - val_accuracy: 0.8933\n",
      "Epoch 21/30\n",
      "768/768 [==============================] - 4s 5ms/step - loss: 0.1502 - accuracy: 0.9486 - val_loss: 0.3148 - val_accuracy: 0.9033\n",
      "Epoch 22/30\n",
      "768/768 [==============================] - 4s 5ms/step - loss: 0.1520 - accuracy: 0.9472 - val_loss: 0.3151 - val_accuracy: 0.8900\n",
      "Epoch 23/30\n",
      "768/768 [==============================] - 5s 6ms/step - loss: 0.1471 - accuracy: 0.9493 - val_loss: 0.3443 - val_accuracy: 0.9033\n",
      "Epoch 24/30\n",
      "768/768 [==============================] - 5s 6ms/step - loss: 0.1501 - accuracy: 0.9494 - val_loss: 0.3363 - val_accuracy: 0.9000\n",
      "Epoch 25/30\n",
      "768/768 [==============================] - 5s 6ms/step - loss: 0.1479 - accuracy: 0.9495 - val_loss: 0.3390 - val_accuracy: 0.8933\n",
      "Epoch 26/30\n",
      "768/768 [==============================] - 4s 5ms/step - loss: 0.1475 - accuracy: 0.9497 - val_loss: 0.3651 - val_accuracy: 0.8967\n",
      "Epoch 27/30\n",
      "768/768 [==============================] - 4s 5ms/step - loss: 0.1464 - accuracy: 0.9501 - val_loss: 0.3409 - val_accuracy: 0.8900\n",
      "Epoch 28/30\n",
      "768/768 [==============================] - 4s 5ms/step - loss: 0.1442 - accuracy: 0.9502 - val_loss: 0.3326 - val_accuracy: 0.9000\n",
      "Epoch 29/30\n",
      "768/768 [==============================] - 4s 5ms/step - loss: 0.1454 - accuracy: 0.9506 - val_loss: 0.3475 - val_accuracy: 0.9000\n",
      "Epoch 30/30\n",
      "768/768 [==============================] - 4s 5ms/step - loss: 0.1442 - accuracy: 0.9511 - val_loss: 0.3659 - val_accuracy: 0.8950\n"
     ]
    }
   ],
   "source": [
    "fit_c = model.fit(augx_train_c, augy_train,\n",
    "                epochs=30, batch_size = 50, validation_data = (x_test_c, y_test), shuffle = True,)\n"
   ]
  },
  {
   "cell_type": "code",
   "execution_count": 36,
   "metadata": {},
   "outputs": [
    {
     "name": "stdout",
     "output_type": "stream",
     "text": [
      "19/19 [==============================] - 0s 5ms/step - loss: 1.4775 - accuracy: 0.7883\n",
      "Final Test loss: 1.4774651527404785\n",
      "Final Test accuracy: 0.7883333563804626\n"
     ]
    },
    {
     "data": {
      "image/png": "[encoded data removed]",
      "text/plain": [
       "<Figure size 432x288 with 1 Axes>"
      ]
     },
     "metadata": {
      "needs_background": "light"
     },
     "output_type": "display_data"
    },
    {
     "data": {
      "image/png": "[encoded data removed]",
      "text/plain": [
       "<Figure size 432x288 with 1 Axes>"
      ]
     },
     "metadata": {
      "needs_background": "light"
     },
     "output_type": "display_data"
    }
   ],
   "source": [
    "# evaluate model\n",
    "score = model.evaluate(x_test, y_test, verbose=1)\n",
    "\n",
    "# print performance\n",
    "print('Final Test loss:', score[0])\n",
    "print('Final Test accuracy:', score[1])\n",
    "\n",
    "# look into training history\n",
    "\n",
    "# summarize history for accuracy\n",
    "plt.plot(fit_c.history['accuracy'])\n",
    "plt.plot(fit_c.history['val_accuracy'])\n",
    "plt.ylabel('model accuracy')\n",
    "plt.xlabel('epoch')\n",
    "plt.legend(['train', 'test'], loc='best')\n",
    "plt.show()\n",
    "\n",
    "# summarize history for loss\n",
    "plt.plot(fit_c.history['loss'])\n",
    "plt.plot(fit_c.history['val_loss'])\n",
    "plt.ylabel('model loss')\n",
    "plt.xlabel('epoch')\n",
    "plt.legend(['train', 'test'], loc='best')\n",
    "plt.show()"
   ]
  },
  {
   "cell_type": "markdown",
   "metadata": {},
   "source": [
    "## Prova"
   ]
  },
  {
   "cell_type": "code",
   "execution_count": 33,
   "metadata": {},
   "outputs": [],
   "source": [
    "new_sx = [list(s) for s in sx]"
   ]
  },
  {
   "cell_type": "code",
   "execution_count": 53,
   "metadata": {},
   "outputs": [],
   "source": [
    "df = pd.DataFrame(new_sx)"
   ]
  },
  {
   "cell_type": "code",
   "execution_count": 60,
   "metadata": {},
   "outputs": [
    {
     "data": {
      "text/plain": [
       "array([[0.263     , 0.25366667, 0.24633333, 0.237     ],\n",
       "       [0.26066667, 0.25066667, 0.24666667, 0.242     ],\n",
       "       [0.25533333, 0.255     , 0.253     , 0.23666667],\n",
       "       [0.253     , 0.25166667, 0.249     , 0.24633333],\n",
       "       [0.26166667, 0.24933333, 0.247     , 0.242     ],\n",
       "       [0.25333333, 0.25066667, 0.25      , 0.246     ],\n",
       "       [0.25733333, 0.25533333, 0.24433333, 0.243     ],\n",
       "       [0.25666667, 0.25233333, 0.25133333, 0.23966667],\n",
       "       [0.254     , 0.251     , 0.25033333, 0.24466667],\n",
       "       [0.26533333, 0.24933333, 0.248     , 0.23733333],\n",
       "       [0.25533333, 0.25333333, 0.24866667, 0.24266667],\n",
       "       [0.256     , 0.254     , 0.252     , 0.238     ],\n",
       "       [0.265     , 0.252     , 0.244     , 0.239     ],\n",
       "       [0.25833333, 0.25366667, 0.253     , 0.235     ],\n",
       "       [0.25466667, 0.25      , 0.24766667, 0.24766667],\n",
       "       [0.26033333, 0.25033333, 0.24833333, 0.241     ]])"
      ]
     },
     "execution_count": 60,
     "metadata": {},
     "output_type": "execute_result"
    }
   ],
   "source": [
    "frac = np.array([(1/3000*np.array(df[i].value_counts())) for i in range(16)])\n",
    "frac"
   ]
  },
  {
   "cell_type": "code",
   "execution_count": 52,
   "metadata": {},
   "outputs": [],
   "source": [
    "df[df == 'A'].fillna(0)\n",
    "df[df == 'A'] = 1"
   ]
  },
  {
   "cell_type": "markdown",
   "metadata": {},
   "source": [
    "## 15 DNA basis"
   ]
  },
  {
   "cell_type": "code",
   "execution_count": 25,
   "metadata": {},
   "outputs": [
    {
     "name": "stdout",
     "output_type": "stream",
     "text": [
      "Ratio between y_train labels sum and train samples: 0.24333333333333335\n",
      "Ratio between y_test  labels sum and test samples: 0.25833333333333336\n",
      "[[ 1.    0.    0.   ...  0.    0.    0.  ]\n",
      " [ 0.    1.    0.   ...  0.    0.    0.  ]\n",
      " [ 0.    0.    0.   ...  0.    0.    0.  ]\n",
      " ...\n",
      " [-0.25 -0.25 -0.25 ... -0.25 -0.25 -0.25]\n",
      " [-0.25 -0.25  0.75 ... -0.25 -0.25  0.75]\n",
      " [-0.25  0.75 -0.25 ... -0.25 -0.25 -0.25]]\n",
      "Model: \"sequential_1\"\n",
      "_________________________________________________________________\n",
      "Layer (type)                 Output Shape              Param #   \n",
      "=================================================================\n",
      "dense_4 (Dense)              (None, 60)                3660      \n",
      "_________________________________________________________________\n",
      "dense_5 (Dense)              (None, 30)                1830      \n",
      "_________________________________________________________________\n",
      "dense_6 (Dense)              (None, 15)                465       \n",
      "_________________________________________________________________\n",
      "dropout_1 (Dropout)          (None, 15)                0         \n",
      "_________________________________________________________________\n",
      "dense_7 (Dense)              (None, 1)                 16        \n",
      "=================================================================\n",
      "Total params: 5,971\n",
      "Trainable params: 5,971\n",
      "Non-trainable params: 0\n",
      "_________________________________________________________________\n",
      "Epoch 1/30\n",
      "48/48 [==============================] - 1s 11ms/step - loss: 0.6178 - accuracy: 0.6979 - val_loss: 0.5704 - val_accuracy: 0.7417\n",
      "Epoch 2/30\n",
      "48/48 [==============================] - 0s 7ms/step - loss: 0.5370 - accuracy: 0.7596 - val_loss: 0.5458 - val_accuracy: 0.7417\n",
      "Epoch 3/30\n",
      "48/48 [==============================] - 0s 8ms/step - loss: 0.5085 - accuracy: 0.7580 - val_loss: 0.5287 - val_accuracy: 0.7367\n",
      "Epoch 4/30\n",
      "48/48 [==============================] - 0s 7ms/step - loss: 0.4786 - accuracy: 0.7662 - val_loss: 0.5196 - val_accuracy: 0.7367\n",
      "Epoch 5/30\n",
      "48/48 [==============================] - 0s 7ms/step - loss: 0.4690 - accuracy: 0.7755 - val_loss: 0.5067 - val_accuracy: 0.7500\n",
      "Epoch 6/30\n",
      "48/48 [==============================] - 0s 10ms/step - loss: 0.4226 - accuracy: 0.8122 - val_loss: 0.5105 - val_accuracy: 0.7433\n",
      "Epoch 7/30\n",
      "48/48 [==============================] - 1s 11ms/step - loss: 0.4201 - accuracy: 0.8106 - val_loss: 0.4998 - val_accuracy: 0.7550\n",
      "Epoch 8/30\n",
      "48/48 [==============================] - 0s 10ms/step - loss: 0.4056 - accuracy: 0.8273 - val_loss: 0.5027 - val_accuracy: 0.7450\n",
      "Epoch 9/30\n",
      "48/48 [==============================] - 0s 8ms/step - loss: 0.3791 - accuracy: 0.8400 - val_loss: 0.5128 - val_accuracy: 0.7333\n",
      "Epoch 10/30\n",
      "48/48 [==============================] - 0s 9ms/step - loss: 0.3468 - accuracy: 0.8505 - val_loss: 0.5284 - val_accuracy: 0.7217\n",
      "Epoch 11/30\n",
      "48/48 [==============================] - 1s 11ms/step - loss: 0.3141 - accuracy: 0.8745 - val_loss: 0.5383 - val_accuracy: 0.7317\n",
      "Epoch 12/30\n",
      "48/48 [==============================] - 1s 12ms/step - loss: 0.2717 - accuracy: 0.9039 - val_loss: 0.5775 - val_accuracy: 0.7167\n",
      "Epoch 13/30\n",
      "48/48 [==============================] - 1s 13ms/step - loss: 0.2443 - accuracy: 0.9040 - val_loss: 0.6043 - val_accuracy: 0.7233\n",
      "Epoch 14/30\n",
      "48/48 [==============================] - 0s 10ms/step - loss: 0.2108 - accuracy: 0.9130 - val_loss: 0.6516 - val_accuracy: 0.7150\n",
      "Epoch 15/30\n",
      "48/48 [==============================] - 0s 9ms/step - loss: 0.1952 - accuracy: 0.9334 - val_loss: 0.7084 - val_accuracy: 0.7317\n",
      "Epoch 16/30\n",
      "48/48 [==============================] - 0s 9ms/step - loss: 0.1764 - accuracy: 0.9365 - val_loss: 0.7397 - val_accuracy: 0.7150\n",
      "Epoch 17/30\n",
      "48/48 [==============================] - 0s 8ms/step - loss: 0.1526 - accuracy: 0.9513 - val_loss: 0.7842 - val_accuracy: 0.7200\n",
      "Epoch 18/30\n",
      "48/48 [==============================] - 0s 8ms/step - loss: 0.1162 - accuracy: 0.9690 - val_loss: 0.8657 - val_accuracy: 0.7250\n",
      "Epoch 19/30\n",
      "48/48 [==============================] - 0s 8ms/step - loss: 0.1219 - accuracy: 0.9630 - val_loss: 0.8915 - val_accuracy: 0.7217\n",
      "Epoch 20/30\n",
      "48/48 [==============================] - 0s 8ms/step - loss: 0.0983 - accuracy: 0.9740 - val_loss: 0.9517 - val_accuracy: 0.7233\n",
      "Epoch 21/30\n",
      "48/48 [==============================] - 0s 7ms/step - loss: 0.0883 - accuracy: 0.9781 - val_loss: 0.9711 - val_accuracy: 0.7183\n",
      "Epoch 22/30\n",
      "48/48 [==============================] - 0s 9ms/step - loss: 0.0630 - accuracy: 0.9887 - val_loss: 1.0998 - val_accuracy: 0.7233\n",
      "Epoch 23/30\n",
      "48/48 [==============================] - 0s 7ms/step - loss: 0.0541 - accuracy: 0.9900 - val_loss: 1.1083 - val_accuracy: 0.7333\n",
      "Epoch 24/30\n",
      "48/48 [==============================] - 0s 7ms/step - loss: 0.0421 - accuracy: 0.9957 - val_loss: 1.1899 - val_accuracy: 0.7333\n",
      "Epoch 25/30\n",
      "48/48 [==============================] - 0s 8ms/step - loss: 0.0417 - accuracy: 0.9903 - val_loss: 1.2450 - val_accuracy: 0.7267\n",
      "Epoch 26/30\n",
      "48/48 [==============================] - 0s 7ms/step - loss: 0.0352 - accuracy: 0.9942 - val_loss: 1.2964 - val_accuracy: 0.7283\n",
      "Epoch 27/30\n",
      "48/48 [==============================] - 0s 7ms/step - loss: 0.0221 - accuracy: 0.9982 - val_loss: 1.3288 - val_accuracy: 0.7233\n",
      "Epoch 28/30\n",
      "48/48 [==============================] - 0s 7ms/step - loss: 0.0289 - accuracy: 0.9952 - val_loss: 1.3696 - val_accuracy: 0.7300\n",
      "Epoch 29/30\n",
      "48/48 [==============================] - 0s 8ms/step - loss: 0.0254 - accuracy: 0.9957 - val_loss: 1.4403 - val_accuracy: 0.7300\n",
      "Epoch 30/30\n",
      "48/48 [==============================] - 0s 7ms/step - loss: 0.0181 - accuracy: 0.9985 - val_loss: 1.5032 - val_accuracy: 0.7267\n",
      "19/19 [==============================] - 0s 5ms/step - loss: 1.5032 - accuracy: 0.7267\n",
      "Final Test loss: 1.5032246112823486\n",
      "Final Test accuracy: 0.7266666889190674\n"
     ]
    },
    {
     "data": {
      "image/png": "[encoded data removed]",
      "text/plain": [
       "<Figure size 432x288 with 1 Axes>"
      ]
     },
     "metadata": {
      "needs_background": "light"
     },
     "output_type": "display_data"
    },
    {
     "data": {
      "image/png": "[encoded data removed]",
      "text/plain": [
       "<Figure size 432x288 with 1 Axes>"
      ]
     },
     "metadata": {
      "needs_background": "light"
     },
     "output_type": "display_data"
    }
   ],
   "source": [
    "x15 = x[:,:-4]\n",
    "(x_train, y_train) = (x15[:N_train], y[:N_train])\n",
    "(x_test, y_test) = (x15[N_train:], y[N_train:])\n",
    "print(f\"Ratio between y_train labels sum and train samples: {y_train.sum() / N_train}\")\n",
    "print(f\"Ratio between y_test  labels sum and test samples: {y_test.sum() / N_test}\")\n",
    "print(x)\n",
    "\n",
    "np.random.seed(123)\n",
    "\n",
    "model = Sequential()\n",
    "L = 60\n",
    "\n",
    "model.add(Dense(L,input_shape=(L,),activation = \"relu\"))\n",
    "model.add(Dense(L/2,activation = \"relu\"))\n",
    "model.add(Dense(L/4,activation = \"relu\"))\n",
    "model.add(Dropout(0.2))\n",
    "model.add(Dense(1,activation=\"sigmoid\"))\n",
    "\n",
    "model.summary()\n",
    "\n",
    "model.compile(loss=\"binary_crossentropy\",\n",
    "             optimizer=\"adam\",\n",
    "             metrics= [\"accuracy\"])\n",
    "\n",
    "fit = model.fit(x_train, y_train,\n",
    "                epochs=30, batch_size = 50, validation_data = (x_test,y_test), shuffle = True,)\n",
    "\n",
    "\n",
    "# evaluate model\n",
    "score = model.evaluate(x_test, y_test, verbose=1)\n",
    "\n",
    "# print performance\n",
    "print('Final Test loss:', score[0])\n",
    "print('Final Test accuracy:', score[1])\n",
    "\n",
    "# look into training history\n",
    "\n",
    "# summarize history for accuracy\n",
    "plt.plot(fit.history['accuracy'])\n",
    "plt.plot(fit.history['val_accuracy'])\n",
    "plt.ylabel('model accuracy')\n",
    "plt.xlabel('epoch')\n",
    "plt.legend(['train', 'test'], loc='best')\n",
    "plt.show()\n",
    "\n",
    "# summarize history for loss\n",
    "plt.plot(fit.history['loss'])\n",
    "plt.plot(fit.history['val_loss'])\n",
    "plt.ylabel('model loss')\n",
    "plt.xlabel('epoch')\n",
    "plt.legend(['train', 'test'], loc='best')\n",
    "plt.show()"
   ]
  },
  {
   "cell_type": "code",
   "execution_count": 26,
   "metadata": {},
   "outputs": [
    {
     "data": {
      "text/plain": [
       "'AAGGTCTGCCGGCCG'"
      ]
     },
     "execution_count": 26,
     "metadata": {},
     "output_type": "execute_result"
    }
   ],
   "source": [
    "#sx15 = np.array([list(s) for s in sx])\n",
    "sx15 = [n[:-1] for n in sx]\n",
    "sx15[0]"
   ]
  },
  {
   "cell_type": "code",
   "execution_count": 27,
   "metadata": {},
   "outputs": [],
   "source": [
    "augval15 = np.asarray([[[v[-i:] + v[:-i],vy] for i in range(0, 15, 3)] for v,vy in zip(sx15[:N_train],y[:N_train])]).reshape(12000,2)\n",
    "augsx15 = augval15[:,0]\n",
    "augy_train15 = augval15[:,1].astype(int)"
   ]
  },
  {
   "cell_type": "code",
   "execution_count": 28,
   "metadata": {},
   "outputs": [
    {
     "data": {
      "text/plain": [
       "array([['AAGGTCTGCCGGCCG', '1'],\n",
       "       ['CCGAAGGTCTGCCGG', '1'],\n",
       "       ['CGGCCGAAGGTCTGC', '1'],\n",
       "       ['TGCCGGCCGAAGGTC', '1'],\n",
       "       ['GTCTGCCGGCCGAAG', '1']], dtype='<U15')"
      ]
     },
     "execution_count": 28,
     "metadata": {},
     "output_type": "execute_result"
    }
   ],
   "source": [
    "augval15[:5]"
   ]
  },
  {
   "cell_type": "code",
   "execution_count": 29,
   "metadata": {},
   "outputs": [],
   "source": [
    "augx_train15 = np.zeros((N_train*5,L))\n",
    "\n",
    "for n in range(N_train*5):\n",
    "    for i in range(15):\n",
    "        augx_train15[n][i*4 + onehc[augsx15[n][i]]] = 1\n",
    "aug_N_train = N_train*5"
   ]
  },
  {
   "cell_type": "code",
   "execution_count": 32,
   "metadata": {},
   "outputs": [
    {
     "data": {
      "text/plain": [
       "(12000, 60)"
      ]
     },
     "execution_count": 32,
     "metadata": {},
     "output_type": "execute_result"
    }
   ],
   "source": [
    "augx_train15.shape"
   ]
  },
  {
   "cell_type": "code",
   "execution_count": 33,
   "metadata": {},
   "outputs": [
    {
     "name": "stdout",
     "output_type": "stream",
     "text": [
      "Epoch 1/30\n",
      "240/240 [==============================] - 1s 6ms/step - loss: 0.4603 - accuracy: 0.8103 - val_loss: 0.5505 - val_accuracy: 0.7717\n",
      "Epoch 2/30\n",
      "240/240 [==============================] - 1s 5ms/step - loss: 0.3627 - accuracy: 0.8378 - val_loss: 0.5420 - val_accuracy: 0.7750\n",
      "Epoch 3/30\n",
      "240/240 [==============================] - 1s 6ms/step - loss: 0.3316 - accuracy: 0.8560 - val_loss: 0.5526 - val_accuracy: 0.7717\n",
      "Epoch 4/30\n",
      "240/240 [==============================] - 1s 6ms/step - loss: 0.3070 - accuracy: 0.8662 - val_loss: 0.6192 - val_accuracy: 0.7700\n",
      "Epoch 5/30\n",
      "240/240 [==============================] - 1s 5ms/step - loss: 0.2848 - accuracy: 0.8767 - val_loss: 0.6139 - val_accuracy: 0.7767\n",
      "Epoch 6/30\n",
      "240/240 [==============================] - 1s 5ms/step - loss: 0.2659 - accuracy: 0.8887 - val_loss: 0.6598 - val_accuracy: 0.7783\n",
      "Epoch 7/30\n",
      "240/240 [==============================] - 1s 5ms/step - loss: 0.2507 - accuracy: 0.8942 - val_loss: 0.7214 - val_accuracy: 0.7750\n",
      "Epoch 8/30\n",
      "240/240 [==============================] - 1s 6ms/step - loss: 0.2336 - accuracy: 0.9018 - val_loss: 0.7082 - val_accuracy: 0.7833\n",
      "Epoch 9/30\n",
      "240/240 [==============================] - 1s 6ms/step - loss: 0.2224 - accuracy: 0.9074 - val_loss: 0.7744 - val_accuracy: 0.7850\n",
      "Epoch 10/30\n",
      "240/240 [==============================] - 1s 6ms/step - loss: 0.2089 - accuracy: 0.9139 - val_loss: 0.8108 - val_accuracy: 0.7783\n",
      "Epoch 11/30\n",
      "240/240 [==============================] - 1s 6ms/step - loss: 0.1969 - accuracy: 0.9202 - val_loss: 0.9007 - val_accuracy: 0.7833\n",
      "Epoch 12/30\n",
      "240/240 [==============================] - 1s 6ms/step - loss: 0.1927 - accuracy: 0.9210 - val_loss: 0.9198 - val_accuracy: 0.7750\n",
      "Epoch 13/30\n",
      "240/240 [==============================] - 1s 5ms/step - loss: 0.1818 - accuracy: 0.9265 - val_loss: 0.9203 - val_accuracy: 0.7883\n",
      "Epoch 14/30\n",
      "240/240 [==============================] - 1s 5ms/step - loss: 0.1711 - accuracy: 0.9329 - val_loss: 0.8784 - val_accuracy: 0.7833\n",
      "Epoch 15/30\n",
      "240/240 [==============================] - 1s 6ms/step - loss: 0.1658 - accuracy: 0.9345 - val_loss: 0.9501 - val_accuracy: 0.7933\n",
      "Epoch 16/30\n",
      "240/240 [==============================] - 1s 6ms/step - loss: 0.1630 - accuracy: 0.9370 - val_loss: 1.0023 - val_accuracy: 0.7850\n",
      "Epoch 17/30\n",
      "240/240 [==============================] - 1s 6ms/step - loss: 0.1500 - accuracy: 0.9402 - val_loss: 1.0230 - val_accuracy: 0.7833\n",
      "Epoch 18/30\n",
      "240/240 [==============================] - 1s 6ms/step - loss: 0.1426 - accuracy: 0.9443 - val_loss: 1.0451 - val_accuracy: 0.7850\n",
      "Epoch 19/30\n",
      "240/240 [==============================] - 1s 5ms/step - loss: 0.1377 - accuracy: 0.9466 - val_loss: 1.0983 - val_accuracy: 0.7883\n",
      "Epoch 20/30\n",
      "240/240 [==============================] - 1s 6ms/step - loss: 0.1385 - accuracy: 0.9450 - val_loss: 1.0441 - val_accuracy: 0.7917\n",
      "Epoch 21/30\n",
      "240/240 [==============================] - 1s 6ms/step - loss: 0.1251 - accuracy: 0.9516 - val_loss: 1.2086 - val_accuracy: 0.7917\n",
      "Epoch 22/30\n",
      "240/240 [==============================] - 1s 6ms/step - loss: 0.1217 - accuracy: 0.9526 - val_loss: 1.2040 - val_accuracy: 0.7917\n",
      "Epoch 23/30\n",
      "240/240 [==============================] - 1s 6ms/step - loss: 0.1166 - accuracy: 0.9545 - val_loss: 1.2393 - val_accuracy: 0.7767\n",
      "Epoch 24/30\n",
      "240/240 [==============================] - 1s 5ms/step - loss: 0.1124 - accuracy: 0.9567 - val_loss: 1.3234 - val_accuracy: 0.7833\n",
      "Epoch 25/30\n",
      "240/240 [==============================] - 1s 6ms/step - loss: 0.1096 - accuracy: 0.9579 - val_loss: 1.3361 - val_accuracy: 0.7883\n",
      "Epoch 26/30\n",
      "240/240 [==============================] - 1s 6ms/step - loss: 0.1091 - accuracy: 0.9575 - val_loss: 1.3791 - val_accuracy: 0.7800\n",
      "Epoch 27/30\n",
      "240/240 [==============================] - 1s 6ms/step - loss: 0.0990 - accuracy: 0.9611 - val_loss: 1.4428 - val_accuracy: 0.7850\n",
      "Epoch 28/30\n",
      "240/240 [==============================] - 1s 6ms/step - loss: 0.1008 - accuracy: 0.9600 - val_loss: 1.3453 - val_accuracy: 0.7883\n",
      "Epoch 29/30\n",
      "240/240 [==============================] - 1s 6ms/step - loss: 0.0964 - accuracy: 0.9643 - val_loss: 1.3751 - val_accuracy: 0.7933\n",
      "Epoch 30/30\n",
      "240/240 [==============================] - 1s 6ms/step - loss: 0.0913 - accuracy: 0.9658 - val_loss: 1.4775 - val_accuracy: 0.7883\n"
     ]
    }
   ],
   "source": [
    "fit_aug15 = model.fit(augx_train15, augy_train15,\n",
    "                epochs=30, batch_size = 50, validation_data = (x_test,y_test), shuffle = True,)"
   ]
  },
  {
   "cell_type": "code",
   "execution_count": 35,
   "metadata": {},
   "outputs": [
    {
     "name": "stdout",
     "output_type": "stream",
     "text": [
      "19/19 [==============================] - 0s 5ms/step - loss: 1.4775 - accuracy: 0.7883\n",
      "Final Test loss: 1.4774651527404785\n",
      "Final Test accuracy: 0.7883333563804626\n"
     ]
    },
    {
     "data": {
      "image/png": "[encoded data removed]",
      "text/plain": [
       "<Figure size 432x288 with 1 Axes>"
      ]
     },
     "metadata": {
      "needs_background": "light"
     },
     "output_type": "display_data"
    },
    {
     "data": {
      "image/png": "[encoded data removed]",
      "text/plain": [
       "<Figure size 432x288 with 1 Axes>"
      ]
     },
     "metadata": {
      "needs_background": "light"
     },
     "output_type": "display_data"
    }
   ],
   "source": [
    "# evaluate model\n",
    "score = model.evaluate(x_test, y_test, verbose=1)\n",
    "\n",
    "# print performance\n",
    "print('Final Test loss:', score[0])\n",
    "print('Final Test accuracy:', score[1])\n",
    "\n",
    "# look into training history\n",
    "\n",
    "# summarize history for accuracy\n",
    "plt.plot(fit_aug15.history['accuracy'])\n",
    "plt.plot(fit_aug15.history['val_accuracy'])\n",
    "plt.ylabel('model accuracy')\n",
    "plt.xlabel('epoch')\n",
    "plt.legend(['train', 'test'], loc='best')\n",
    "plt.show()\n",
    "\n",
    "# summarize history for loss\n",
    "plt.plot(fit_aug15.history['loss'])\n",
    "plt.plot(fit_aug15.history['val_loss'])\n",
    "plt.ylabel('model loss')\n",
    "plt.xlabel('epoch')\n",
    "plt.legend(['train', 'test'], loc='best')\n",
    "plt.show()"
   ]
  },
  {
   "cell_type": "code",
   "execution_count": null,
   "metadata": {},
   "outputs": [],
   "source": []
  }
 ],
 "metadata": {
  "kernelspec": {
   "display_name": "Python 3",
   "language": "python",
   "name": "python3"
  },
  "language_info": {
   "codemirror_mode": {
    "name": "ipython",
    "version": 3
   },
   "file_extension": ".py",
   "mimetype": "text/x-python",
   "name": "python",
   "nbconvert_exporter": "python",
   "pygments_lexer": "ipython3",
   "version": "3.7.0"
  }
 },
 "nbformat": 4,
 "nbformat_minor": 4
}
