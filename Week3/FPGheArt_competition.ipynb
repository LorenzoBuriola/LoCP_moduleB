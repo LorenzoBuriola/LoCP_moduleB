{
 "cells": [
  {
   "cell_type": "code",
   "execution_count": 1,
   "metadata": {},
   "outputs": [],
   "source": [
    "import numpy as np\n",
    "import keras\n",
    "import matplotlib.pyplot as plt\n",
    "import pandas as pd\n",
    "\n",
    "from keras.models import Sequential\n",
    "from keras.layers import Dense, Dropout, Flatten\n",
    "from keras.layers import Conv1D, MaxPooling1D, AveragePooling1D\n",
    "from keras.utils import to_categorical\n",
    "from sklearn.model_selection import train_test_split\n",
    "from sklearn.preprocessing import StandardScaler\n",
    "from keras import initializers, regularizers\n",
    "from keras.wrappers.scikit_learn import KerasClassifier\n",
    "from sklearn.model_selection import GridSearchCV\n",
    "from sklearn.model_selection import KFold\n",
    "from sklearn.preprocessing import OneHotEncoder\n",
    "from sklearn.metrics import confusion_matrix\n",
    "import seaborn as sns\n",
    "from numpy import fft\n",
    "import tensorflow as tf"
   ]
  },
  {
   "cell_type": "markdown",
   "metadata": {},
   "source": [
    "# FPGheArt - Week 2 exercise\n",
    "\n",
    "### Lorenzo Buriola - 2021860\n",
    "### Filippo Conforto - 2021856\n",
    "### Lorenzo Domenichetti - 2011653\n",
    "\n",
    "\n"
   ]
  },
  {
   "cell_type": "markdown",
   "metadata": {},
   "source": [
    "# Functions"
   ]
  },
  {
   "cell_type": "code",
   "execution_count": 2,
   "metadata": {},
   "outputs": [],
   "source": [
    "def plot_res(fit1):\n",
    "    '''\n",
    "    Simple function to plot the history of train and validation accuracy\n",
    "    '''\n",
    "    fig, (ax1, ax2) = plt.subplots(1, 2, figsize=(15, 7))\n",
    "\n",
    "    # summarize history for loss\n",
    "    ax1.plot(fit1.history['loss'], label = \"Train Loss\", color = '#648FFF', lw = 2.5)\n",
    "    ax1.plot(fit1.history['val_loss'], label = \"Validation Loss\", color = '#FE6100', lw = 2.5)\n",
    "    ax1.legend()\n",
    "    ax1.set_xlabel('Epoch')\n",
    "    ax1.set_ylabel('Model Loss')\n",
    "    ax1.grid(ls = '--')\n",
    "\n",
    "    # summarize history for accuracy\n",
    "    ax2.plot(fit1.history['accuracy'], label = 'Train Accuracy', color =  '#648FFF', lw = 2.5)\n",
    "    ax2.plot(fit1.history['val_accuracy'], label = 'Validation Accuracy', color = '#FE6100', lw = 2.5)\n",
    "    ax2.legend()\n",
    "    ax2.set_xlabel('Epoch')\n",
    "    ax2.set_ylabel('Model Accuracy')\n",
    "    ax2.grid(ls = '--')\n",
    "\n",
    "    plt.show()"
   ]
  },
  {
   "cell_type": "code",
   "execution_count": 3,
   "metadata": {},
   "outputs": [],
   "source": [
    "def plot_acc(fit, label_fit, colors = ['blue', 'red', 'green']):\n",
    "    \"\"\"\n",
    "    Simple function to compare the learning curve of various model\n",
    "    \"\"\"\n",
    "    fig, ax = plt.subplots(figsize = (10, 7))\n",
    "    for i in range(len(fit)):\n",
    "        ax.plot(fit[i].history['accuracy'], label = (label_fit[i] + ' Train Accuracy'), lw = 2.5, ls = '--', color = colors[i])\n",
    "        ax.plot(fit[i].history['val_accuracy'], label = (label_fit[i] + ' Validation Accuracy'), lw = 2.5, color = colors[i])\n",
    "    ax.set_xlabel('Epoch')\n",
    "    ax.set_ylabel('Model Accuracy')\n",
    "    ax.grid(ls = '--')\n",
    "    ax.legend()\n",
    "    plt.show()"
   ]
  },
  {
   "cell_type": "code",
   "execution_count": 4,
   "metadata": {},
   "outputs": [],
   "source": [
    "def plot_conf_mat(c_matrix, ax, title = ''):\n",
    "    \"\"\"\n",
    "    Simple function that plot the confusion matrix\n",
    "    \"\"\"\n",
    "    ax.imshow(c_matrix, cmap = plt.cm.YlGn, alpha = 0.5, vmin = 0, vmax = 1)\n",
    "    ax.set_xticks(np.arange(3))\n",
    "    ax.set_yticks(np.arange(3))\n",
    "    for i in range(3):\n",
    "        for j in range(3):\n",
    "            ax.text(x=j, y=i, s=round(c_matrix[i, j],2), ha=\"center\", va=\"center\")\n",
    "    ax.xaxis.set_ticks_position('bottom')\n",
    "    ax.set_xlabel('Predicted label')\n",
    "    ax.set_ylabel('True label')\n",
    "    ax.set_title(title)\n",
    "    fig.tight_layout()"
   ]
  },
  {
   "cell_type": "code",
   "execution_count": 5,
   "metadata": {},
   "outputs": [],
   "source": [
    "def create_CNN(reg, lam, fil, k_size, dense, Poolsize, bias_reg, act_reg):\n",
    "    \"\"\"\n",
    "    This function allow to define a CNN given its parameters\n",
    "    \"\"\"\n",
    "    ini = initializers.RandomNormal(mean = 0, stddev = 0.05)\n",
    "\n",
    "    model = Sequential()\n",
    "    if bias_reg == True:        \n",
    "        model.add(Conv1D(filters = fil[0], kernel_size = k_size[0],\n",
    "                            kernel_regularizer = reg(lam),\n",
    "                            kernel_initializer=ini,\n",
    "                            bias_regularizer = reg(lam),\n",
    "                            padding = \"same\",\n",
    "                            bias_initializer = ini,\n",
    "                            activation = \"relu\",\n",
    "                            input_shape = input_shape\n",
    "                            ))\n",
    "    elif act_reg == True:    \n",
    "        model.add(Conv1D(filters = fil[0], kernel_size = k_size[0],\n",
    "                            kernel_regularizer = reg(lam),\n",
    "                            kernel_initializer=ini,\n",
    "                            padding = \"same\",\n",
    "                            activity_regularizer = reg(lam),\n",
    "                            activation = \"relu\",\n",
    "                            input_shape = input_shape\n",
    "                            ))\n",
    "    else:     \n",
    "        model.add(Conv1D(filters = fil[0], kernel_size = k_size[0],\n",
    "                            kernel_regularizer = reg(lam),\n",
    "                            kernel_initializer=ini,\n",
    "                            padding = \"same\",\n",
    "                            activation = \"relu\",\n",
    "                            input_shape = input_shape\n",
    "                            ))\n",
    "        \n",
    "    model.add(AveragePooling1D(Poolsize))\n",
    "    for i in range(1,len(fil)):\n",
    "        model.add(Conv1D(filters = fil[i], kernel_size = k_size[i], activation = \"relu\", padding = \"same\"))\n",
    "        model.add(AveragePooling1D(Poolsize))\n",
    "    model.add(Flatten())\n",
    "    for i in range(len(dense)):\n",
    "        model.add(Dense(dense[i],activation=\"relu\"))\n",
    "    model.add(Dropout(0.2))\n",
    "    model.add(Dense(N_categ, activation=\"softmax\"))\n",
    "    return model"
   ]
  },
  {
   "cell_type": "code",
   "execution_count": 6,
   "metadata": {},
   "outputs": [],
   "source": [
    "def compile_model(reg = regularizers.l2, lam = 0.001, fil = [5,5], \n",
    "                  k_size = [11,7], dense = [10], Poolsize = 5, bias_reg = False, act_reg = False):\n",
    "    # create the mode\n",
    "    model=create_CNN(reg, lam, fil, k_size, dense, Poolsize, bias_reg, act_reg)\n",
    "    # compile the model\n",
    "    model.compile(loss=keras.losses.categorical_crossentropy, optimizer = \"adam\", metrics = [\"accuracy\"])\n",
    "    return model"
   ]
  },
  {
   "cell_type": "markdown",
   "metadata": {},
   "source": [
    "# Data"
   ]
  },
  {
   "cell_type": "code",
   "execution_count": 33,
   "metadata": {},
   "outputs": [],
   "source": [
    "\n",
    "x = np.loadtxt(\"DATA/x_ts_comp_N10000.csv\", delimiter =\",\")\n",
    "categ_y = np.loadtxt(\"DATA/y_ts_comp_N10000.csv\", delimiter =\",\")\n",
    "\n",
    "scaler = StandardScaler()\n",
    "x =  scaler.fit_transform(x.T).T\n"
   ]
  },
  {
   "cell_type": "code",
   "execution_count": 34,
   "metadata": {},
   "outputs": [],
   "source": [
    "y = to_categorical(categ_y)"
   ]
  },
  {
   "cell_type": "code",
   "execution_count": 35,
   "metadata": {},
   "outputs": [],
   "source": [
    "\n",
    "L = len(x[0])\n",
    "input_shape = (len(x[0]),1)\n",
    "N_categ = 3"
   ]
  },
  {
   "cell_type": "code",
   "execution_count": 32,
   "metadata": {},
   "outputs": [],
   "source": [
    "\n",
    "x = x.reshape(x.shape[0],L,1)\n"
   ]
  },
  {
   "cell_type": "markdown",
   "metadata": {},
   "source": [
    "### Augmentation"
   ]
  },
  {
   "cell_type": "code",
   "execution_count": 95,
   "metadata": {},
   "outputs": [],
   "source": [
    "temp = np.flip(x, axis = 1)\n",
    "\n",
    "x2 = np.concatenate([x,temp], axis = 0)\n",
    "y2 = np.concatenate([y,y], axis = 0)\n",
    "\n",
    "L = len(x2[0])\n",
    "input_shape = (len(x2[0]),1)\n",
    "N_categ = 3\n",
    "\n",
    "x2 = x2.reshape(x2.shape[0],L,1)\n"
   ]
  },
  {
   "cell_type": "markdown",
   "metadata": {},
   "source": [
    "## Fourier"
   ]
  },
  {
   "cell_type": "code",
   "execution_count": 90,
   "metadata": {},
   "outputs": [],
   "source": [
    "x_fourier = fft.rfft(x)\n",
    "x_fourier[:,-20:-10] = 0\n",
    "x2 = fft.irfft(x_fourier)\n",
    "y2 = y\n",
    "\n",
    "L = len(x2[0])\n",
    "input_shape = (len(x2[0]),1)\n",
    "N_categ = 3\n",
    "\n",
    "x2 = x2.reshape(x2.shape[0],L,1)\n"
   ]
  },
  {
   "cell_type": "raw",
   "metadata": {
    "scrolled": true
   },
   "source": [
    "# # call Keras scikit wrapper\n",
    "model_gridsearch = KerasClassifier(build_fn = compile_model)\n",
    "\n",
    "\n",
    "# define parameter dictionary\n",
    "k_size = [(7,7), (10,7), (12,7), (12,10), (15,7)]\n",
    "fil = [(5,7), (7,5), (10,5), (5,10), (7,10), (10,10)]\n",
    "dense = [(9,),(7,),(5,), (12,)]\n",
    "\n",
    "param_grid = dict(k_size = k_size , fil = fil, dense = dense)\n",
    "# # call scikit grid search module\n",
    "grid = GridSearchCV(estimator=model_gridsearch, param_grid=param_grid, n_jobs=1, cv=4)\n",
    "grid_result = grid.fit(x,y, epochs=150, batch_size = 250, shuffle = True)\n"
   ]
  },
  {
   "cell_type": "code",
   "execution_count": 201,
   "metadata": {},
   "outputs": [],
   "source": [
    "ini = initializers.RandomNormal(mean = 0, stddev = 0.05)\n",
    "\n",
    "model = Sequential()\n",
    "\n",
    "model.add(Conv1D(filters = 11, kernel_size = 16,\n",
    "                    kernel_regularizer = regularizers.l2(0.01),\n",
    "                    kernel_initializer=ini,\n",
    "                    padding = \"same\",\n",
    "                    activation = \"relu\",\n",
    "                    input_shape = input_shape\n",
    "                    ))\n",
    "\n",
    "model.add(MaxPooling1D(5))\n",
    "\n",
    "model.add(Flatten())\n",
    "model.add(Dense(3,activation=\"relu\"))\n",
    "\n",
    "#model.add(Dropout(0.2))\n",
    "model.add(Dense(N_categ, activation=\"softmax\"))\n",
    "\n",
    "# compile the model\n",
    "model.compile(loss=keras.losses.categorical_crossentropy, optimizer = \"adam\", metrics = [\"accuracy\"])"
   ]
  },
  {
   "cell_type": "code",
   "execution_count": 202,
   "metadata": {},
   "outputs": [
    {
     "name": "stdout",
     "output_type": "stream",
     "text": [
      "Model: \"sequential_46\"\n",
      "_________________________________________________________________\n",
      "Layer (type)                 Output Shape              Param #   \n",
      "=================================================================\n",
      "conv1d_50 (Conv1D)           (None, 60, 11)            187       \n",
      "_________________________________________________________________\n",
      "max_pooling1d_50 (MaxPooling (None, 12, 11)            0         \n",
      "_________________________________________________________________\n",
      "flatten_46 (Flatten)         (None, 132)               0         \n",
      "_________________________________________________________________\n",
      "dense_92 (Dense)             (None, 3)                 399       \n",
      "_________________________________________________________________\n",
      "dense_93 (Dense)             (None, 3)                 12        \n",
      "=================================================================\n",
      "Total params: 598\n",
      "Trainable params: 598\n",
      "Non-trainable params: 0\n",
      "_________________________________________________________________\n"
     ]
    }
   ],
   "source": [
    "model.summary()\n",
    "model.save_weights(\"competition_weights.h5\")\n"
   ]
  },
  {
   "cell_type": "code",
   "execution_count": 203,
   "metadata": {
    "scrolled": true
   },
   "outputs": [
    {
     "name": "stdout",
     "output_type": "stream",
     "text": [
      "0.7822499871253967\n",
      "0.7792500257492065\n",
      "0.781000018119812\n",
      "0.7787500023841858\n",
      "0.7730000019073486\n"
     ]
    },
    {
     "data": {
      "image/png": "[encoded data removed]",
      "text/plain": [
       "<Figure size 720x1440 with 5 Axes>"
      ]
     },
     "metadata": {
      "needs_background": "light"
     },
     "output_type": "display_data"
    },
    {
     "name": "stdout",
     "output_type": "stream",
     "text": [
      "0.77885000705719\n"
     ]
    }
   ],
   "source": [
    "acc = []\n",
    "kfold = KFold(n_splits=5, shuffle=True)\n",
    "fig, axes = plt.subplots(1,5, figsize = (10,20))\n",
    "for i, (train, test) in enumerate(kfold.split(x2,y2)):\n",
    "    model.load_weights(\"competition_weights.h5\")\n",
    "    hist = model.fit(x2[train], y2[train], batch_size = 250, epochs = 150, \n",
    "                 #validation_data = (x_test, y_test), \n",
    "                verbose = 0, shuffle = True, use_multiprocessing=True,workers=16)\n",
    "    scores = model.evaluate(x2[test], y2[test], verbose=0)\n",
    "    plot_conf_mat(confusion_matrix(np.argmax(y2[test], axis =1),np.argmax(model.predict(x2[test]), axis=1),  normalize = 'true'), axes[i], title = '')\n",
    "    acc.append(scores[1])\n",
    "    print(scores[1])\n",
    "plt.show()\n",
    "print(np.asarray(acc).mean())\n",
    "\n"
   ]
  },
  {
   "cell_type": "code",
   "execution_count": 168,
   "metadata": {},
   "outputs": [
    {
     "data": {
      "text/plain": [
       "array([ 0.15409884,  0.30289573, -0.26150625, -0.40517221, -0.84130102,\n",
       "       -0.64632579, -0.09218566,  0.56457301,  1.62667493,  2.11411301,\n",
       "        2.01662539,  2.24238619,  2.0935893 ,  1.74981718,  0.75441732,\n",
       "        0.22593182, -0.41030314, -1.30308446, -1.6519875 , -1.16968035,\n",
       "       -0.80538453, -1.36465558, -1.4621432 , -1.3492628 , -1.19533499,\n",
       "       -1.48779784, -1.52371433, -0.48726705, -0.83617009, -0.93878863,\n",
       "       -0.94905049, -0.3846485 , -0.14862586, -0.20506605, -0.35386294,\n",
       "       -0.15888771, -0.10757844, -0.69763506, -0.70276599, -0.54883817,\n",
       "       -0.54370724, -0.59501652, -0.23585162, -0.18454235, -0.0254836 ,\n",
       "       -0.1948042 , -0.32820831,  0.62614414,  1.12384407,  1.08279665,\n",
       "        1.11871314,  0.75954825,  1.20080798,  1.1854152 ,  0.53891838,\n",
       "        0.99043997,  1.05201109,  0.32855037,  0.37472871,  0.36959778])"
      ]
     },
     "execution_count": 168,
     "metadata": {},
     "output_type": "execute_result"
    }
   ],
   "source": []
  },
  {
   "cell_type": "code",
   "execution_count": null,
   "metadata": {},
   "outputs": [],
   "source": []
  }
 ],
 "metadata": {
  "kernelspec": {
   "display_name": "Python38",
   "language": "python",
   "name": "python38"
  },
  "language_info": {
   "codemirror_mode": {
    "name": "ipython",
    "version": 3
   },
   "file_extension": ".py",
   "mimetype": "text/x-python",
   "name": "python",
   "nbconvert_exporter": "python",
   "pygments_lexer": "ipython3",
   "version": "3.8.8"
  }
 },
 "nbformat": 4,
 "nbformat_minor": 4
}
